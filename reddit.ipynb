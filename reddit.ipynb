{
  "cells": [
    {
      "cell_type": "markdown",
      "metadata": {
        "id": "-frrG66tjsNS"
      },
      "source": [
        "# Setup\n",
        "\n",
        "You can just edit the variables below and then run the entire notebook. \n",
        "\n",
        "The setup below will get all submissions and comments matching the keyword \"China\" on the body, title and self-text fields from 01/2006 to 12/2010."
      ]
    },
    {
      "cell_type": "code",
      "execution_count": 1,
      "metadata": {
        "id": "8lHLpaQ0juWA"
      },
      "outputs": [],
      "source": [
        "START_YEAR = 2006\n",
        "START_MONTH = 1\n",
        "END_YEAR = 2010\n",
        "END_MONTH = 12\n",
        "KEYWORDS = \"China,china\"\n",
        "FIELDS = \"body,title,selftext\""
      ]
    },
    {
      "cell_type": "markdown",
      "metadata": {
        "id": "xUBxYWhDixPv"
      },
      "source": [
        "# Installation"
      ]
    },
    {
      "cell_type": "markdown",
      "metadata": {
        "id": "3ITvmcWAi3ql"
      },
      "source": [
        "\n",
        "## Install Rust"
      ]
    },
    {
      "cell_type": "code",
      "execution_count": 2,
      "metadata": {
        "colab": {
          "base_uri": "https://localhost:8080/"
        },
        "id": "6RrSPk09iRAk",
        "outputId": "e11f1b7a-2d83-4bdb-f2c7-5ebaa719ec3e"
      },
      "outputs": [
        {
          "name": "stdout",
          "output_type": "stream",
          "text": [
            "Get:1 https://cloud.r-project.org/bin/linux/ubuntu bionic-cran40/ InRelease [3,626 B]\n",
            "Ign:2 https://developer.download.nvidia.com/compute/cuda/repos/ubuntu1804/x86_64  InRelease\n",
            "Get:3 http://security.ubuntu.com/ubuntu bionic-security InRelease [88.7 kB]\n",
            "Get:4 http://ppa.launchpad.net/c2d4u.team/c2d4u4.0+/ubuntu bionic InRelease [15.9 kB]\n",
            "Hit:5 http://archive.ubuntu.com/ubuntu bionic InRelease\n",
            "Ign:6 https://developer.download.nvidia.com/compute/machine-learning/repos/ubuntu1804/x86_64  InRelease\n",
            "Get:7 https://developer.download.nvidia.com/compute/cuda/repos/ubuntu1804/x86_64  Release [696 B]\n",
            "Get:8 http://archive.ubuntu.com/ubuntu bionic-updates InRelease [88.7 kB]\n",
            "Hit:9 https://developer.download.nvidia.com/compute/machine-learning/repos/ubuntu1804/x86_64  Release\n",
            "Get:10 https://developer.download.nvidia.com/compute/cuda/repos/ubuntu1804/x86_64  Release.gpg [836 B]\n",
            "Hit:11 http://ppa.launchpad.net/cran/libgit2/ubuntu bionic InRelease\n",
            "Get:12 https://cloud.r-project.org/bin/linux/ubuntu bionic-cran40/ Packages [76.8 kB]\n",
            "Get:13 http://archive.ubuntu.com/ubuntu bionic-backports InRelease [74.6 kB]\n",
            "Hit:14 http://ppa.launchpad.net/deadsnakes/ppa/ubuntu bionic InRelease\n",
            "Get:15 http://ppa.launchpad.net/graphics-drivers/ppa/ubuntu bionic InRelease [21.3 kB]\n",
            "Get:16 http://ppa.launchpad.net/c2d4u.team/c2d4u4.0+/ubuntu bionic/main Sources [1,827 kB]\n",
            "Get:18 https://developer.download.nvidia.com/compute/cuda/repos/ubuntu1804/x86_64  Packages [931 kB]\n",
            "Get:19 http://archive.ubuntu.com/ubuntu bionic-updates/universe amd64 Packages [2,252 kB]\n",
            "Get:20 http://ppa.launchpad.net/c2d4u.team/c2d4u4.0+/ubuntu bionic/main amd64 Packages [936 kB]\n",
            "Get:21 http://security.ubuntu.com/ubuntu bionic-security/restricted amd64 Packages [806 kB]\n",
            "Get:22 http://archive.ubuntu.com/ubuntu bionic-updates/restricted amd64 Packages [840 kB]\n",
            "Get:23 http://archive.ubuntu.com/ubuntu bionic-updates/main amd64 Packages [3,036 kB]\n",
            "Get:24 http://security.ubuntu.com/ubuntu bionic-security/universe amd64 Packages [1,474 kB]\n",
            "Get:25 http://security.ubuntu.com/ubuntu bionic-security/main amd64 Packages [2,596 kB]\n",
            "Get:26 http://ppa.launchpad.net/graphics-drivers/ppa/ubuntu bionic/main amd64 Packages [42.8 kB]\n",
            "Fetched 15.1 MB in 4s (3,768 kB/s)\n",
            "Reading package lists... Done\n",
            "Building dependency tree       \n",
            "Reading state information... Done\n",
            "78 packages can be upgraded. Run 'apt list --upgradable' to see them.\n",
            "Reading package lists... Done\n",
            "Building dependency tree       \n",
            "Reading state information... Done\n",
            "The following package was automatically installed and is no longer required:\n",
            "  libnvidia-common-470\n",
            "Use 'apt autoremove' to remove it.\n",
            "The following additional packages will be installed:\n",
            "  cargo libstd-rust-1.57 libstd-rust-dev\n",
            "Suggested packages:\n",
            "  cargo-doc lld-13 clang-13\n",
            "Recommended packages:\n",
            "  llvm-13\n",
            "The following NEW packages will be installed:\n",
            "  cargo libstd-rust-1.57 libstd-rust-dev rustc\n",
            "0 upgraded, 4 newly installed, 0 to remove and 78 not upgraded.\n",
            "Need to get 78.4 MB of archives.\n",
            "After this operation, 350 MB of additional disk space will be used.\n",
            "Get:1 http://archive.ubuntu.com/ubuntu bionic-updates/universe amd64 libstd-rust-1.57 amd64 1.57.0+dfsg1+llvm-0ubuntu1~18.04.1 [38.7 MB]\n",
            "Get:2 http://archive.ubuntu.com/ubuntu bionic-updates/universe amd64 libstd-rust-dev amd64 1.57.0+dfsg1+llvm-0ubuntu1~18.04.1 [32.9 MB]\n",
            "Get:3 http://archive.ubuntu.com/ubuntu bionic-updates/universe amd64 rustc amd64 1.57.0+dfsg1+llvm-0ubuntu1~18.04.1 [3,415 kB]\n",
            "Get:4 http://archive.ubuntu.com/ubuntu bionic-updates/universe amd64 cargo amd64 0.58.0-0ubuntu1~18.04.1 [3,446 kB]\n",
            "Fetched 78.4 MB in 3s (27.5 MB/s)\n",
            "Selecting previously unselected package libstd-rust-1.57:amd64.\n",
            "(Reading database ... 155320 files and directories currently installed.)\n",
            "Preparing to unpack .../libstd-rust-1.57_1.57.0+dfsg1+llvm-0ubuntu1~18.04.1_amd64.deb ...\n",
            "Unpacking libstd-rust-1.57:amd64 (1.57.0+dfsg1+llvm-0ubuntu1~18.04.1) ...\n",
            "Selecting previously unselected package libstd-rust-dev:amd64.\n",
            "Preparing to unpack .../libstd-rust-dev_1.57.0+dfsg1+llvm-0ubuntu1~18.04.1_amd64.deb ...\n",
            "Unpacking libstd-rust-dev:amd64 (1.57.0+dfsg1+llvm-0ubuntu1~18.04.1) ...\n",
            "Selecting previously unselected package rustc.\n",
            "Preparing to unpack .../rustc_1.57.0+dfsg1+llvm-0ubuntu1~18.04.1_amd64.deb ...\n",
            "Unpacking rustc (1.57.0+dfsg1+llvm-0ubuntu1~18.04.1) ...\n",
            "Selecting previously unselected package cargo.\n",
            "Preparing to unpack .../cargo_0.58.0-0ubuntu1~18.04.1_amd64.deb ...\n",
            "Unpacking cargo (0.58.0-0ubuntu1~18.04.1) ...\n",
            "Setting up libstd-rust-1.57:amd64 (1.57.0+dfsg1+llvm-0ubuntu1~18.04.1) ...\n",
            "Setting up libstd-rust-dev:amd64 (1.57.0+dfsg1+llvm-0ubuntu1~18.04.1) ...\n",
            "Setting up rustc (1.57.0+dfsg1+llvm-0ubuntu1~18.04.1) ...\n",
            "Setting up cargo (0.58.0-0ubuntu1~18.04.1) ...\n",
            "Processing triggers for libc-bin (2.27-3ubuntu1.3) ...\n",
            "/sbin/ldconfig.real: /usr/local/lib/python3.7/dist-packages/ideep4py/lib/libmkldnn.so.0 is not a symbolic link\n",
            "\n",
            "Processing triggers for man-db (2.8.3-2ubuntu0.1) ...\n"
          ]
        }
      ],
      "source": [
        "!apt update\n",
        "!apt install rustc"
      ]
    },
    {
      "cell_type": "markdown",
      "metadata": {
        "id": "Dd1h_w4si5LU"
      },
      "source": [
        "## Install dependencies"
      ]
    },
    {
      "cell_type": "code",
      "execution_count": 3,
      "metadata": {
        "colab": {
          "base_uri": "https://localhost:8080/"
        },
        "id": "Ow3Idtmbg9MZ",
        "outputId": "8f47012d-f921-4113-fb80-40de3a852e38"
      },
      "outputs": [
        {
          "name": "stdout",
          "output_type": "stream",
          "text": [
            "/content\n",
            "Requirement already satisfied: pandas in /usr/local/lib/python3.7/dist-packages (1.3.5)\n",
            "Collecting loguru\n",
            "  Downloading loguru-0.6.0-py3-none-any.whl (58 kB)\n",
            "\u001b[K     |████████████████████████████████| 58 kB 5.4 MB/s \n",
            "\u001b[?25hRequirement already satisfied: requests in /usr/local/lib/python3.7/dist-packages (2.23.0)\n",
            "Requirement already satisfied: python-dateutil>=2.7.3 in /usr/local/lib/python3.7/dist-packages (from pandas) (2.8.2)\n",
            "Requirement already satisfied: numpy>=1.17.3 in /usr/local/lib/python3.7/dist-packages (from pandas) (1.21.5)\n",
            "Requirement already satisfied: pytz>=2017.3 in /usr/local/lib/python3.7/dist-packages (from pandas) (2018.9)\n",
            "Requirement already satisfied: six>=1.5 in /usr/local/lib/python3.7/dist-packages (from python-dateutil>=2.7.3->pandas) (1.15.0)\n",
            "Requirement already satisfied: chardet<4,>=3.0.2 in /usr/local/lib/python3.7/dist-packages (from requests) (3.0.4)\n",
            "Requirement already satisfied: idna<3,>=2.5 in /usr/local/lib/python3.7/dist-packages (from requests) (2.10)\n",
            "Requirement already satisfied: certifi>=2017.4.17 in /usr/local/lib/python3.7/dist-packages (from requests) (2021.10.8)\n",
            "Requirement already satisfied: urllib3!=1.25.0,!=1.25.1,<1.26,>=1.21.1 in /usr/local/lib/python3.7/dist-packages (from requests) (1.24.3)\n",
            "Installing collected packages: loguru\n",
            "Successfully installed loguru-0.6.0\n",
            "Cloning into 'Pushshift-Importer'...\n",
            "remote: Enumerating objects: 197, done.\u001b[K\n",
            "remote: Counting objects: 100% (197/197), done.\u001b[K\n",
            "remote: Compressing objects: 100% (148/148), done.\u001b[K\n",
            "remote: Total 197 (delta 117), reused 125 (delta 46), pack-reused 0\u001b[K\n",
            "Receiving objects: 100% (197/197), 41.81 KiB | 13.94 MiB/s, done.\n",
            "Resolving deltas: 100% (117/117), done.\n",
            "Cloning into 'reddit_keywords'...\n",
            "remote: Enumerating objects: 28, done.\u001b[K\n",
            "remote: Counting objects: 100% (28/28), done.\u001b[K\n",
            "remote: Compressing objects: 100% (27/27), done.\u001b[K\n",
            "remote: Total 28 (delta 3), reused 19 (delta 1), pack-reused 0\u001b[K\n",
            "Unpacking objects: 100% (28/28), done.\n"
          ]
        }
      ],
      "source": [
        "%cd /content/\n",
        "!pip install pandas loguru requests\n",
        "!git clone https://github.com/Paul-E/Pushshift-Importer.git\n",
        "!git clone https://github.com/ruanchaves/reddit_keywords.git"
      ]
    },
    {
      "cell_type": "markdown",
      "metadata": {
        "id": "lq98KugMjAS9"
      },
      "source": [
        "# Download dumps \n",
        "\n",
        "Download all dumps from START_YEAR and START_MONTH to (and including) END_YEAR and END_MONTH."
      ]
    },
    {
      "cell_type": "code",
      "execution_count": null,
      "metadata": {
        "colab": {
          "base_uri": "https://localhost:8080/"
        },
        "id": "0dnwdtIChVl8",
        "outputId": "731f5978-ab5e-4a1b-ad8c-b25b3c281565"
      },
      "outputs": [
        {
          "name": "stdout",
          "output_type": "stream",
          "text": [
            "/content/reddit_keywords\n",
            "\u001b[32m2022-03-07 23:00:54.064\u001b[0m | \u001b[34m\u001b[1mDEBUG   \u001b[0m | \u001b[36m__main__\u001b[0m:\u001b[36mdownload_dumps\u001b[0m:\u001b[36m89\u001b[0m - \u001b[34m\u001b[1mDownloading https://files.pushshift.io/reddit/submissions/RS_2006-01.zst.\u001b[0m\n",
            "\u001b[32m2022-03-07 23:00:54.955\u001b[0m | \u001b[34m\u001b[1mDEBUG   \u001b[0m | \u001b[36m__main__\u001b[0m:\u001b[36mdownload_dumps\u001b[0m:\u001b[36m92\u001b[0m - \u001b[34m\u001b[1mhttps://files.pushshift.io/reddit/submissions/RS_2006-01.bz2 does not exist. Skipping.\u001b[0m\n",
            "\u001b[32m2022-03-07 23:00:55.353\u001b[0m | \u001b[34m\u001b[1mDEBUG   \u001b[0m | \u001b[36m__main__\u001b[0m:\u001b[36mdownload_dumps\u001b[0m:\u001b[36m89\u001b[0m - \u001b[34m\u001b[1mDownloading https://files.pushshift.io/reddit/submissions/RS_2006-02.zst.\u001b[0m\n",
            "\u001b[32m2022-03-07 23:00:56.679\u001b[0m | \u001b[34m\u001b[1mDEBUG   \u001b[0m | \u001b[36m__main__\u001b[0m:\u001b[36mdownload_dumps\u001b[0m:\u001b[36m92\u001b[0m - \u001b[34m\u001b[1mhttps://files.pushshift.io/reddit/submissions/RS_2006-02.bz2 does not exist. Skipping.\u001b[0m\n",
            "\u001b[32m2022-03-07 23:00:57.092\u001b[0m | \u001b[34m\u001b[1mDEBUG   \u001b[0m | \u001b[36m__main__\u001b[0m:\u001b[36mdownload_dumps\u001b[0m:\u001b[36m89\u001b[0m - \u001b[34m\u001b[1mDownloading https://files.pushshift.io/reddit/submissions/RS_2006-03.zst.\u001b[0m\n",
            "\u001b[32m2022-03-07 23:00:58.031\u001b[0m | \u001b[34m\u001b[1mDEBUG   \u001b[0m | \u001b[36m__main__\u001b[0m:\u001b[36mdownload_dumps\u001b[0m:\u001b[36m92\u001b[0m - \u001b[34m\u001b[1mhttps://files.pushshift.io/reddit/submissions/RS_2006-03.bz2 does not exist. Skipping.\u001b[0m\n",
            "\u001b[32m2022-03-07 23:00:58.475\u001b[0m | \u001b[34m\u001b[1mDEBUG   \u001b[0m | \u001b[36m__main__\u001b[0m:\u001b[36mdownload_dumps\u001b[0m:\u001b[36m89\u001b[0m - \u001b[34m\u001b[1mDownloading https://files.pushshift.io/reddit/submissions/RS_2006-04.zst.\u001b[0m\n",
            "\u001b[32m2022-03-07 23:00:59.459\u001b[0m | \u001b[34m\u001b[1mDEBUG   \u001b[0m | \u001b[36m__main__\u001b[0m:\u001b[36mdownload_dumps\u001b[0m:\u001b[36m92\u001b[0m - \u001b[34m\u001b[1mhttps://files.pushshift.io/reddit/submissions/RS_2006-04.bz2 does not exist. Skipping.\u001b[0m\n",
            "\u001b[32m2022-03-07 23:00:59.886\u001b[0m | \u001b[34m\u001b[1mDEBUG   \u001b[0m | \u001b[36m__main__\u001b[0m:\u001b[36mdownload_dumps\u001b[0m:\u001b[36m89\u001b[0m - \u001b[34m\u001b[1mDownloading https://files.pushshift.io/reddit/submissions/RS_2006-05.zst.\u001b[0m\n",
            "\u001b[32m2022-03-07 23:01:00.914\u001b[0m | \u001b[34m\u001b[1mDEBUG   \u001b[0m | \u001b[36m__main__\u001b[0m:\u001b[36mdownload_dumps\u001b[0m:\u001b[36m92\u001b[0m - \u001b[34m\u001b[1mhttps://files.pushshift.io/reddit/submissions/RS_2006-05.bz2 does not exist. Skipping.\u001b[0m\n",
            "\u001b[32m2022-03-07 23:01:01.329\u001b[0m | \u001b[34m\u001b[1mDEBUG   \u001b[0m | \u001b[36m__main__\u001b[0m:\u001b[36mdownload_dumps\u001b[0m:\u001b[36m89\u001b[0m - \u001b[34m\u001b[1mDownloading https://files.pushshift.io/reddit/submissions/RS_2006-06.zst.\u001b[0m\n",
            "\u001b[32m2022-03-07 23:01:02.304\u001b[0m | \u001b[34m\u001b[1mDEBUG   \u001b[0m | \u001b[36m__main__\u001b[0m:\u001b[36mdownload_dumps\u001b[0m:\u001b[36m92\u001b[0m - \u001b[34m\u001b[1mhttps://files.pushshift.io/reddit/submissions/RS_2006-06.bz2 does not exist. Skipping.\u001b[0m\n",
            "\u001b[32m2022-03-07 23:01:02.727\u001b[0m | \u001b[34m\u001b[1mDEBUG   \u001b[0m | \u001b[36m__main__\u001b[0m:\u001b[36mdownload_dumps\u001b[0m:\u001b[36m89\u001b[0m - \u001b[34m\u001b[1mDownloading https://files.pushshift.io/reddit/submissions/RS_2006-07.zst.\u001b[0m\n",
            "\u001b[32m2022-03-07 23:01:03.924\u001b[0m | \u001b[34m\u001b[1mDEBUG   \u001b[0m | \u001b[36m__main__\u001b[0m:\u001b[36mdownload_dumps\u001b[0m:\u001b[36m92\u001b[0m - \u001b[34m\u001b[1mhttps://files.pushshift.io/reddit/submissions/RS_2006-07.bz2 does not exist. Skipping.\u001b[0m\n",
            "\u001b[32m2022-03-07 23:01:04.318\u001b[0m | \u001b[34m\u001b[1mDEBUG   \u001b[0m | \u001b[36m__main__\u001b[0m:\u001b[36mdownload_dumps\u001b[0m:\u001b[36m89\u001b[0m - \u001b[34m\u001b[1mDownloading https://files.pushshift.io/reddit/submissions/RS_2006-08.zst.\u001b[0m\n",
            "\u001b[32m2022-03-07 23:01:05.843\u001b[0m | \u001b[34m\u001b[1mDEBUG   \u001b[0m | \u001b[36m__main__\u001b[0m:\u001b[36mdownload_dumps\u001b[0m:\u001b[36m92\u001b[0m - \u001b[34m\u001b[1mhttps://files.pushshift.io/reddit/submissions/RS_2006-08.bz2 does not exist. Skipping.\u001b[0m\n",
            "\u001b[32m2022-03-07 23:01:06.259\u001b[0m | \u001b[34m\u001b[1mDEBUG   \u001b[0m | \u001b[36m__main__\u001b[0m:\u001b[36mdownload_dumps\u001b[0m:\u001b[36m89\u001b[0m - \u001b[34m\u001b[1mDownloading https://files.pushshift.io/reddit/submissions/RS_2006-09.zst.\u001b[0m\n",
            "\u001b[32m2022-03-07 23:01:07.788\u001b[0m | \u001b[34m\u001b[1mDEBUG   \u001b[0m | \u001b[36m__main__\u001b[0m:\u001b[36mdownload_dumps\u001b[0m:\u001b[36m92\u001b[0m - \u001b[34m\u001b[1mhttps://files.pushshift.io/reddit/submissions/RS_2006-09.bz2 does not exist. Skipping.\u001b[0m\n",
            "\u001b[32m2022-03-07 23:01:08.211\u001b[0m | \u001b[34m\u001b[1mDEBUG   \u001b[0m | \u001b[36m__main__\u001b[0m:\u001b[36mdownload_dumps\u001b[0m:\u001b[36m89\u001b[0m - \u001b[34m\u001b[1mDownloading https://files.pushshift.io/reddit/submissions/RS_2006-10.zst.\u001b[0m\n",
            "\u001b[32m2022-03-07 23:01:09.347\u001b[0m | \u001b[34m\u001b[1mDEBUG   \u001b[0m | \u001b[36m__main__\u001b[0m:\u001b[36mdownload_dumps\u001b[0m:\u001b[36m92\u001b[0m - \u001b[34m\u001b[1mhttps://files.pushshift.io/reddit/submissions/RS_2006-10.bz2 does not exist. Skipping.\u001b[0m\n",
            "\u001b[32m2022-03-07 23:01:09.753\u001b[0m | \u001b[34m\u001b[1mDEBUG   \u001b[0m | \u001b[36m__main__\u001b[0m:\u001b[36mdownload_dumps\u001b[0m:\u001b[36m89\u001b[0m - \u001b[34m\u001b[1mDownloading https://files.pushshift.io/reddit/submissions/RS_2006-11.zst.\u001b[0m\n",
            "\u001b[32m2022-03-07 23:01:11.219\u001b[0m | \u001b[34m\u001b[1mDEBUG   \u001b[0m | \u001b[36m__main__\u001b[0m:\u001b[36mdownload_dumps\u001b[0m:\u001b[36m92\u001b[0m - \u001b[34m\u001b[1mhttps://files.pushshift.io/reddit/submissions/RS_2006-11.bz2 does not exist. Skipping.\u001b[0m\n",
            "\u001b[32m2022-03-07 23:01:11.611\u001b[0m | \u001b[34m\u001b[1mDEBUG   \u001b[0m | \u001b[36m__main__\u001b[0m:\u001b[36mdownload_dumps\u001b[0m:\u001b[36m89\u001b[0m - \u001b[34m\u001b[1mDownloading https://files.pushshift.io/reddit/submissions/RS_2006-12.zst.\u001b[0m\n",
            "\u001b[32m2022-03-07 23:01:13.090\u001b[0m | \u001b[34m\u001b[1mDEBUG   \u001b[0m | \u001b[36m__main__\u001b[0m:\u001b[36mdownload_dumps\u001b[0m:\u001b[36m92\u001b[0m - \u001b[34m\u001b[1mhttps://files.pushshift.io/reddit/submissions/RS_2006-12.bz2 does not exist. Skipping.\u001b[0m\n",
            "\u001b[32m2022-03-07 23:01:13.530\u001b[0m | \u001b[34m\u001b[1mDEBUG   \u001b[0m | \u001b[36m__main__\u001b[0m:\u001b[36mdownload_dumps\u001b[0m:\u001b[36m89\u001b[0m - \u001b[34m\u001b[1mDownloading https://files.pushshift.io/reddit/submissions/RS_2007-01.zst.\u001b[0m\n",
            "\u001b[32m2022-03-07 23:01:14.731\u001b[0m | \u001b[34m\u001b[1mDEBUG   \u001b[0m | \u001b[36m__main__\u001b[0m:\u001b[36mdownload_dumps\u001b[0m:\u001b[36m92\u001b[0m - \u001b[34m\u001b[1mhttps://files.pushshift.io/reddit/submissions/RS_2007-01.bz2 does not exist. Skipping.\u001b[0m\n",
            "\u001b[32m2022-03-07 23:01:15.156\u001b[0m | \u001b[34m\u001b[1mDEBUG   \u001b[0m | \u001b[36m__main__\u001b[0m:\u001b[36mdownload_dumps\u001b[0m:\u001b[36m89\u001b[0m - \u001b[34m\u001b[1mDownloading https://files.pushshift.io/reddit/submissions/RS_2007-02.zst.\u001b[0m\n",
            "\u001b[32m2022-03-07 23:01:16.760\u001b[0m | \u001b[34m\u001b[1mDEBUG   \u001b[0m | \u001b[36m__main__\u001b[0m:\u001b[36mdownload_dumps\u001b[0m:\u001b[36m92\u001b[0m - \u001b[34m\u001b[1mhttps://files.pushshift.io/reddit/submissions/RS_2007-02.bz2 does not exist. Skipping.\u001b[0m\n",
            "\u001b[32m2022-03-07 23:01:17.192\u001b[0m | \u001b[34m\u001b[1mDEBUG   \u001b[0m | \u001b[36m__main__\u001b[0m:\u001b[36mdownload_dumps\u001b[0m:\u001b[36m89\u001b[0m - \u001b[34m\u001b[1mDownloading https://files.pushshift.io/reddit/submissions/RS_2007-03.zst.\u001b[0m\n",
            "\u001b[32m2022-03-07 23:01:18.730\u001b[0m | \u001b[34m\u001b[1mDEBUG   \u001b[0m | \u001b[36m__main__\u001b[0m:\u001b[36mdownload_dumps\u001b[0m:\u001b[36m92\u001b[0m - \u001b[34m\u001b[1mhttps://files.pushshift.io/reddit/submissions/RS_2007-03.bz2 does not exist. Skipping.\u001b[0m\n",
            "\u001b[32m2022-03-07 23:01:19.126\u001b[0m | \u001b[34m\u001b[1mDEBUG   \u001b[0m | \u001b[36m__main__\u001b[0m:\u001b[36mdownload_dumps\u001b[0m:\u001b[36m89\u001b[0m - \u001b[34m\u001b[1mDownloading https://files.pushshift.io/reddit/submissions/RS_2007-04.zst.\u001b[0m\n",
            "\u001b[32m2022-03-07 23:01:20.283\u001b[0m | \u001b[34m\u001b[1mDEBUG   \u001b[0m | \u001b[36m__main__\u001b[0m:\u001b[36mdownload_dumps\u001b[0m:\u001b[36m92\u001b[0m - \u001b[34m\u001b[1mhttps://files.pushshift.io/reddit/submissions/RS_2007-04.bz2 does not exist. Skipping.\u001b[0m\n",
            "\u001b[32m2022-03-07 23:01:20.715\u001b[0m | \u001b[34m\u001b[1mDEBUG   \u001b[0m | \u001b[36m__main__\u001b[0m:\u001b[36mdownload_dumps\u001b[0m:\u001b[36m89\u001b[0m - \u001b[34m\u001b[1mDownloading https://files.pushshift.io/reddit/submissions/RS_2007-05.zst.\u001b[0m\n",
            "\u001b[32m2022-03-07 23:01:22.328\u001b[0m | \u001b[34m\u001b[1mDEBUG   \u001b[0m | \u001b[36m__main__\u001b[0m:\u001b[36mdownload_dumps\u001b[0m:\u001b[36m92\u001b[0m - \u001b[34m\u001b[1mhttps://files.pushshift.io/reddit/submissions/RS_2007-05.bz2 does not exist. Skipping.\u001b[0m\n",
            "\u001b[32m2022-03-07 23:01:22.725\u001b[0m | \u001b[34m\u001b[1mDEBUG   \u001b[0m | \u001b[36m__main__\u001b[0m:\u001b[36mdownload_dumps\u001b[0m:\u001b[36m89\u001b[0m - \u001b[34m\u001b[1mDownloading https://files.pushshift.io/reddit/submissions/RS_2007-06.zst.\u001b[0m\n",
            "\u001b[32m2022-03-07 23:01:23.884\u001b[0m | \u001b[34m\u001b[1mDEBUG   \u001b[0m | \u001b[36m__main__\u001b[0m:\u001b[36mdownload_dumps\u001b[0m:\u001b[36m92\u001b[0m - \u001b[34m\u001b[1mhttps://files.pushshift.io/reddit/submissions/RS_2007-06.bz2 does not exist. Skipping.\u001b[0m\n",
            "\u001b[32m2022-03-07 23:01:24.283\u001b[0m | \u001b[34m\u001b[1mDEBUG   \u001b[0m | \u001b[36m__main__\u001b[0m:\u001b[36mdownload_dumps\u001b[0m:\u001b[36m89\u001b[0m - \u001b[34m\u001b[1mDownloading https://files.pushshift.io/reddit/submissions/RS_2007-07.zst.\u001b[0m\n",
            "\u001b[32m2022-03-07 23:01:25.824\u001b[0m | \u001b[34m\u001b[1mDEBUG   \u001b[0m | \u001b[36m__main__\u001b[0m:\u001b[36mdownload_dumps\u001b[0m:\u001b[36m92\u001b[0m - \u001b[34m\u001b[1mhttps://files.pushshift.io/reddit/submissions/RS_2007-07.bz2 does not exist. Skipping.\u001b[0m\n",
            "\u001b[32m2022-03-07 23:01:26.227\u001b[0m | \u001b[34m\u001b[1mDEBUG   \u001b[0m | \u001b[36m__main__\u001b[0m:\u001b[36mdownload_dumps\u001b[0m:\u001b[36m89\u001b[0m - \u001b[34m\u001b[1mDownloading https://files.pushshift.io/reddit/submissions/RS_2007-08.zst.\u001b[0m\n",
            "\u001b[32m2022-03-07 23:01:27.474\u001b[0m | \u001b[34m\u001b[1mDEBUG   \u001b[0m | \u001b[36m__main__\u001b[0m:\u001b[36mdownload_dumps\u001b[0m:\u001b[36m92\u001b[0m - \u001b[34m\u001b[1mhttps://files.pushshift.io/reddit/submissions/RS_2007-08.bz2 does not exist. Skipping.\u001b[0m\n",
            "\u001b[32m2022-03-07 23:01:27.900\u001b[0m | \u001b[34m\u001b[1mDEBUG   \u001b[0m | \u001b[36m__main__\u001b[0m:\u001b[36mdownload_dumps\u001b[0m:\u001b[36m89\u001b[0m - \u001b[34m\u001b[1mDownloading https://files.pushshift.io/reddit/submissions/RS_2007-09.zst.\u001b[0m\n",
            "\u001b[32m2022-03-07 23:01:29.193\u001b[0m | \u001b[34m\u001b[1mDEBUG   \u001b[0m | \u001b[36m__main__\u001b[0m:\u001b[36mdownload_dumps\u001b[0m:\u001b[36m92\u001b[0m - \u001b[34m\u001b[1mhttps://files.pushshift.io/reddit/submissions/RS_2007-09.bz2 does not exist. Skipping.\u001b[0m\n",
            "\u001b[32m2022-03-07 23:01:29.627\u001b[0m | \u001b[34m\u001b[1mDEBUG   \u001b[0m | \u001b[36m__main__\u001b[0m:\u001b[36mdownload_dumps\u001b[0m:\u001b[36m89\u001b[0m - \u001b[34m\u001b[1mDownloading https://files.pushshift.io/reddit/submissions/RS_2007-10.zst.\u001b[0m\n",
            "\u001b[32m2022-03-07 23:01:31.279\u001b[0m | \u001b[34m\u001b[1mDEBUG   \u001b[0m | \u001b[36m__main__\u001b[0m:\u001b[36mdownload_dumps\u001b[0m:\u001b[36m92\u001b[0m - \u001b[34m\u001b[1mhttps://files.pushshift.io/reddit/submissions/RS_2007-10.bz2 does not exist. Skipping.\u001b[0m\n",
            "\u001b[32m2022-03-07 23:01:31.705\u001b[0m | \u001b[34m\u001b[1mDEBUG   \u001b[0m | \u001b[36m__main__\u001b[0m:\u001b[36mdownload_dumps\u001b[0m:\u001b[36m89\u001b[0m - \u001b[34m\u001b[1mDownloading https://files.pushshift.io/reddit/submissions/RS_2007-11.zst.\u001b[0m\n",
            "\u001b[32m2022-03-07 23:01:32.750\u001b[0m | \u001b[34m\u001b[1mDEBUG   \u001b[0m | \u001b[36m__main__\u001b[0m:\u001b[36mdownload_dumps\u001b[0m:\u001b[36m92\u001b[0m - \u001b[34m\u001b[1mhttps://files.pushshift.io/reddit/submissions/RS_2007-11.bz2 does not exist. Skipping.\u001b[0m\n",
            "\u001b[32m2022-03-07 23:01:33.167\u001b[0m | \u001b[34m\u001b[1mDEBUG   \u001b[0m | \u001b[36m__main__\u001b[0m:\u001b[36mdownload_dumps\u001b[0m:\u001b[36m89\u001b[0m - \u001b[34m\u001b[1mDownloading https://files.pushshift.io/reddit/submissions/RS_2007-12.zst.\u001b[0m\n",
            "\u001b[32m2022-03-07 23:01:34.901\u001b[0m | \u001b[34m\u001b[1mDEBUG   \u001b[0m | \u001b[36m__main__\u001b[0m:\u001b[36mdownload_dumps\u001b[0m:\u001b[36m92\u001b[0m - \u001b[34m\u001b[1mhttps://files.pushshift.io/reddit/submissions/RS_2007-12.bz2 does not exist. Skipping.\u001b[0m\n",
            "\u001b[32m2022-03-07 23:01:35.337\u001b[0m | \u001b[34m\u001b[1mDEBUG   \u001b[0m | \u001b[36m__main__\u001b[0m:\u001b[36mdownload_dumps\u001b[0m:\u001b[36m89\u001b[0m - \u001b[34m\u001b[1mDownloading https://files.pushshift.io/reddit/submissions/RS_2008-01.zst.\u001b[0m\n",
            "\u001b[32m2022-03-07 23:01:37.099\u001b[0m | \u001b[34m\u001b[1mDEBUG   \u001b[0m | \u001b[36m__main__\u001b[0m:\u001b[36mdownload_dumps\u001b[0m:\u001b[36m92\u001b[0m - \u001b[34m\u001b[1mhttps://files.pushshift.io/reddit/submissions/RS_2008-01.bz2 does not exist. Skipping.\u001b[0m\n",
            "\u001b[32m2022-03-07 23:01:37.536\u001b[0m | \u001b[34m\u001b[1mDEBUG   \u001b[0m | \u001b[36m__main__\u001b[0m:\u001b[36mdownload_dumps\u001b[0m:\u001b[36m89\u001b[0m - \u001b[34m\u001b[1mDownloading https://files.pushshift.io/reddit/submissions/RS_2008-02.zst.\u001b[0m\n",
            "\u001b[32m2022-03-07 23:01:39.345\u001b[0m | \u001b[34m\u001b[1mDEBUG   \u001b[0m | \u001b[36m__main__\u001b[0m:\u001b[36mdownload_dumps\u001b[0m:\u001b[36m92\u001b[0m - \u001b[34m\u001b[1mhttps://files.pushshift.io/reddit/submissions/RS_2008-02.bz2 does not exist. Skipping.\u001b[0m\n",
            "\u001b[32m2022-03-07 23:01:39.585\u001b[0m | \u001b[34m\u001b[1mDEBUG   \u001b[0m | \u001b[36m__main__\u001b[0m:\u001b[36mdownload_dumps\u001b[0m:\u001b[36m89\u001b[0m - \u001b[34m\u001b[1mDownloading https://files.pushshift.io/reddit/submissions/RS_2008-03.zst.\u001b[0m\n",
            "\u001b[32m2022-03-07 23:01:41.482\u001b[0m | \u001b[34m\u001b[1mDEBUG   \u001b[0m | \u001b[36m__main__\u001b[0m:\u001b[36mdownload_dumps\u001b[0m:\u001b[36m92\u001b[0m - \u001b[34m\u001b[1mhttps://files.pushshift.io/reddit/submissions/RS_2008-03.bz2 does not exist. Skipping.\u001b[0m\n",
            "\u001b[32m2022-03-07 23:01:41.912\u001b[0m | \u001b[34m\u001b[1mDEBUG   \u001b[0m | \u001b[36m__main__\u001b[0m:\u001b[36mdownload_dumps\u001b[0m:\u001b[36m89\u001b[0m - \u001b[34m\u001b[1mDownloading https://files.pushshift.io/reddit/submissions/RS_2008-04.zst.\u001b[0m\n",
            "\u001b[32m2022-03-07 23:01:43.678\u001b[0m | \u001b[34m\u001b[1mDEBUG   \u001b[0m | \u001b[36m__main__\u001b[0m:\u001b[36mdownload_dumps\u001b[0m:\u001b[36m92\u001b[0m - \u001b[34m\u001b[1mhttps://files.pushshift.io/reddit/submissions/RS_2008-04.bz2 does not exist. Skipping.\u001b[0m\n",
            "\u001b[32m2022-03-07 23:01:44.079\u001b[0m | \u001b[34m\u001b[1mDEBUG   \u001b[0m | \u001b[36m__main__\u001b[0m:\u001b[36mdownload_dumps\u001b[0m:\u001b[36m89\u001b[0m - \u001b[34m\u001b[1mDownloading https://files.pushshift.io/reddit/submissions/RS_2008-05.zst.\u001b[0m\n",
            "\u001b[32m2022-03-07 23:01:46.014\u001b[0m | \u001b[34m\u001b[1mDEBUG   \u001b[0m | \u001b[36m__main__\u001b[0m:\u001b[36mdownload_dumps\u001b[0m:\u001b[36m92\u001b[0m - \u001b[34m\u001b[1mhttps://files.pushshift.io/reddit/submissions/RS_2008-05.bz2 does not exist. Skipping.\u001b[0m\n",
            "\u001b[32m2022-03-07 23:01:46.249\u001b[0m | \u001b[34m\u001b[1mDEBUG   \u001b[0m | \u001b[36m__main__\u001b[0m:\u001b[36mdownload_dumps\u001b[0m:\u001b[36m89\u001b[0m - \u001b[34m\u001b[1mDownloading https://files.pushshift.io/reddit/submissions/RS_2008-06.zst.\u001b[0m\n",
            "\u001b[32m2022-03-07 23:01:47.584\u001b[0m | \u001b[34m\u001b[1mDEBUG   \u001b[0m | \u001b[36m__main__\u001b[0m:\u001b[36mdownload_dumps\u001b[0m:\u001b[36m92\u001b[0m - \u001b[34m\u001b[1mhttps://files.pushshift.io/reddit/submissions/RS_2008-06.bz2 does not exist. Skipping.\u001b[0m\n",
            "\u001b[32m2022-03-07 23:01:48.017\u001b[0m | \u001b[34m\u001b[1mDEBUG   \u001b[0m | \u001b[36m__main__\u001b[0m:\u001b[36mdownload_dumps\u001b[0m:\u001b[36m89\u001b[0m - \u001b[34m\u001b[1mDownloading https://files.pushshift.io/reddit/submissions/RS_2008-07.zst.\u001b[0m\n",
            "\u001b[32m2022-03-07 23:01:49.813\u001b[0m | \u001b[34m\u001b[1mDEBUG   \u001b[0m | \u001b[36m__main__\u001b[0m:\u001b[36mdownload_dumps\u001b[0m:\u001b[36m92\u001b[0m - \u001b[34m\u001b[1mhttps://files.pushshift.io/reddit/submissions/RS_2008-07.bz2 does not exist. Skipping.\u001b[0m\n",
            "\u001b[32m2022-03-07 23:01:50.250\u001b[0m | \u001b[34m\u001b[1mDEBUG   \u001b[0m | \u001b[36m__main__\u001b[0m:\u001b[36mdownload_dumps\u001b[0m:\u001b[36m89\u001b[0m - \u001b[34m\u001b[1mDownloading https://files.pushshift.io/reddit/submissions/RS_2008-08.zst.\u001b[0m\n",
            "\u001b[32m2022-03-07 23:01:52.264\u001b[0m | \u001b[34m\u001b[1mDEBUG   \u001b[0m | \u001b[36m__main__\u001b[0m:\u001b[36mdownload_dumps\u001b[0m:\u001b[36m92\u001b[0m - \u001b[34m\u001b[1mhttps://files.pushshift.io/reddit/submissions/RS_2008-08.bz2 does not exist. Skipping.\u001b[0m\n",
            "\u001b[32m2022-03-07 23:01:52.670\u001b[0m | \u001b[34m\u001b[1mDEBUG   \u001b[0m | \u001b[36m__main__\u001b[0m:\u001b[36mdownload_dumps\u001b[0m:\u001b[36m89\u001b[0m - \u001b[34m\u001b[1mDownloading https://files.pushshift.io/reddit/submissions/RS_2008-09.zst.\u001b[0m\n",
            "\u001b[32m2022-03-07 23:01:54.492\u001b[0m | \u001b[34m\u001b[1mDEBUG   \u001b[0m | \u001b[36m__main__\u001b[0m:\u001b[36mdownload_dumps\u001b[0m:\u001b[36m92\u001b[0m - \u001b[34m\u001b[1mhttps://files.pushshift.io/reddit/submissions/RS_2008-09.bz2 does not exist. Skipping.\u001b[0m\n",
            "\u001b[32m2022-03-07 23:01:54.724\u001b[0m | \u001b[34m\u001b[1mDEBUG   \u001b[0m | \u001b[36m__main__\u001b[0m:\u001b[36mdownload_dumps\u001b[0m:\u001b[36m89\u001b[0m - \u001b[34m\u001b[1mDownloading https://files.pushshift.io/reddit/submissions/RS_2008-10.zst.\u001b[0m\n",
            "\u001b[32m2022-03-07 23:01:57.116\u001b[0m | \u001b[34m\u001b[1mDEBUG   \u001b[0m | \u001b[36m__main__\u001b[0m:\u001b[36mdownload_dumps\u001b[0m:\u001b[36m92\u001b[0m - \u001b[34m\u001b[1mhttps://files.pushshift.io/reddit/submissions/RS_2008-10.bz2 does not exist. Skipping.\u001b[0m\n",
            "\u001b[32m2022-03-07 23:01:57.541\u001b[0m | \u001b[34m\u001b[1mDEBUG   \u001b[0m | \u001b[36m__main__\u001b[0m:\u001b[36mdownload_dumps\u001b[0m:\u001b[36m89\u001b[0m - \u001b[34m\u001b[1mDownloading https://files.pushshift.io/reddit/submissions/RS_2008-11.zst.\u001b[0m\n",
            "\u001b[32m2022-03-07 23:01:59.884\u001b[0m | \u001b[34m\u001b[1mDEBUG   \u001b[0m | \u001b[36m__main__\u001b[0m:\u001b[36mdownload_dumps\u001b[0m:\u001b[36m92\u001b[0m - \u001b[34m\u001b[1mhttps://files.pushshift.io/reddit/submissions/RS_2008-11.bz2 does not exist. Skipping.\u001b[0m\n",
            "\u001b[32m2022-03-07 23:02:00.106\u001b[0m | \u001b[34m\u001b[1mDEBUG   \u001b[0m | \u001b[36m__main__\u001b[0m:\u001b[36mdownload_dumps\u001b[0m:\u001b[36m89\u001b[0m - \u001b[34m\u001b[1mDownloading https://files.pushshift.io/reddit/submissions/RS_2008-12.zst.\u001b[0m\n",
            "\u001b[32m2022-03-07 23:02:02.663\u001b[0m | \u001b[34m\u001b[1mDEBUG   \u001b[0m | \u001b[36m__main__\u001b[0m:\u001b[36mdownload_dumps\u001b[0m:\u001b[36m92\u001b[0m - \u001b[34m\u001b[1mhttps://files.pushshift.io/reddit/submissions/RS_2008-12.bz2 does not exist. Skipping.\u001b[0m\n",
            "\u001b[32m2022-03-07 23:02:02.897\u001b[0m | \u001b[34m\u001b[1mDEBUG   \u001b[0m | \u001b[36m__main__\u001b[0m:\u001b[36mdownload_dumps\u001b[0m:\u001b[36m89\u001b[0m - \u001b[34m\u001b[1mDownloading https://files.pushshift.io/reddit/submissions/RS_2009-01.zst.\u001b[0m\n",
            "\u001b[32m2022-03-07 23:02:05.579\u001b[0m | \u001b[34m\u001b[1mDEBUG   \u001b[0m | \u001b[36m__main__\u001b[0m:\u001b[36mdownload_dumps\u001b[0m:\u001b[36m92\u001b[0m - \u001b[34m\u001b[1mhttps://files.pushshift.io/reddit/submissions/RS_2009-01.bz2 does not exist. Skipping.\u001b[0m\n",
            "\u001b[32m2022-03-07 23:02:06.001\u001b[0m | \u001b[34m\u001b[1mDEBUG   \u001b[0m | \u001b[36m__main__\u001b[0m:\u001b[36mdownload_dumps\u001b[0m:\u001b[36m89\u001b[0m - \u001b[34m\u001b[1mDownloading https://files.pushshift.io/reddit/submissions/RS_2009-02.zst.\u001b[0m\n",
            "\u001b[32m2022-03-07 23:02:08.282\u001b[0m | \u001b[34m\u001b[1mDEBUG   \u001b[0m | \u001b[36m__main__\u001b[0m:\u001b[36mdownload_dumps\u001b[0m:\u001b[36m92\u001b[0m - \u001b[34m\u001b[1mhttps://files.pushshift.io/reddit/submissions/RS_2009-02.bz2 does not exist. Skipping.\u001b[0m\n",
            "\u001b[32m2022-03-07 23:02:08.680\u001b[0m | \u001b[34m\u001b[1mDEBUG   \u001b[0m | \u001b[36m__main__\u001b[0m:\u001b[36mdownload_dumps\u001b[0m:\u001b[36m89\u001b[0m - \u001b[34m\u001b[1mDownloading https://files.pushshift.io/reddit/submissions/RS_2009-03.zst.\u001b[0m\n",
            "\u001b[32m2022-03-07 23:02:11.217\u001b[0m | \u001b[34m\u001b[1mDEBUG   \u001b[0m | \u001b[36m__main__\u001b[0m:\u001b[36mdownload_dumps\u001b[0m:\u001b[36m92\u001b[0m - \u001b[34m\u001b[1mhttps://files.pushshift.io/reddit/submissions/RS_2009-03.bz2 does not exist. Skipping.\u001b[0m\n",
            "\u001b[32m2022-03-07 23:02:11.619\u001b[0m | \u001b[34m\u001b[1mDEBUG   \u001b[0m | \u001b[36m__main__\u001b[0m:\u001b[36mdownload_dumps\u001b[0m:\u001b[36m89\u001b[0m - \u001b[34m\u001b[1mDownloading https://files.pushshift.io/reddit/submissions/RS_2009-04.zst.\u001b[0m\n",
            "\u001b[32m2022-03-07 23:02:14.267\u001b[0m | \u001b[34m\u001b[1mDEBUG   \u001b[0m | \u001b[36m__main__\u001b[0m:\u001b[36mdownload_dumps\u001b[0m:\u001b[36m92\u001b[0m - \u001b[34m\u001b[1mhttps://files.pushshift.io/reddit/submissions/RS_2009-04.bz2 does not exist. Skipping.\u001b[0m\n",
            "\u001b[32m2022-03-07 23:02:14.671\u001b[0m | \u001b[34m\u001b[1mDEBUG   \u001b[0m | \u001b[36m__main__\u001b[0m:\u001b[36mdownload_dumps\u001b[0m:\u001b[36m89\u001b[0m - \u001b[34m\u001b[1mDownloading https://files.pushshift.io/reddit/submissions/RS_2009-05.zst.\u001b[0m\n",
            "\u001b[32m2022-03-07 23:02:17.128\u001b[0m | \u001b[34m\u001b[1mDEBUG   \u001b[0m | \u001b[36m__main__\u001b[0m:\u001b[36mdownload_dumps\u001b[0m:\u001b[36m92\u001b[0m - \u001b[34m\u001b[1mhttps://files.pushshift.io/reddit/submissions/RS_2009-05.bz2 does not exist. Skipping.\u001b[0m\n",
            "\u001b[32m2022-03-07 23:02:17.532\u001b[0m | \u001b[34m\u001b[1mDEBUG   \u001b[0m | \u001b[36m__main__\u001b[0m:\u001b[36mdownload_dumps\u001b[0m:\u001b[36m89\u001b[0m - \u001b[34m\u001b[1mDownloading https://files.pushshift.io/reddit/submissions/RS_2009-06.zst.\u001b[0m\n",
            "\u001b[32m2022-03-07 23:02:20.248\u001b[0m | \u001b[34m\u001b[1mDEBUG   \u001b[0m | \u001b[36m__main__\u001b[0m:\u001b[36mdownload_dumps\u001b[0m:\u001b[36m92\u001b[0m - \u001b[34m\u001b[1mhttps://files.pushshift.io/reddit/submissions/RS_2009-06.bz2 does not exist. Skipping.\u001b[0m\n",
            "\u001b[32m2022-03-07 23:02:20.677\u001b[0m | \u001b[34m\u001b[1mDEBUG   \u001b[0m | \u001b[36m__main__\u001b[0m:\u001b[36mdownload_dumps\u001b[0m:\u001b[36m89\u001b[0m - \u001b[34m\u001b[1mDownloading https://files.pushshift.io/reddit/submissions/RS_2009-07.zst.\u001b[0m\n",
            "\u001b[32m2022-03-07 23:02:24.234\u001b[0m | \u001b[34m\u001b[1mDEBUG   \u001b[0m | \u001b[36m__main__\u001b[0m:\u001b[36mdownload_dumps\u001b[0m:\u001b[36m92\u001b[0m - \u001b[34m\u001b[1mhttps://files.pushshift.io/reddit/submissions/RS_2009-07.bz2 does not exist. Skipping.\u001b[0m\n",
            "\u001b[32m2022-03-07 23:02:24.630\u001b[0m | \u001b[34m\u001b[1mDEBUG   \u001b[0m | \u001b[36m__main__\u001b[0m:\u001b[36mdownload_dumps\u001b[0m:\u001b[36m89\u001b[0m - \u001b[34m\u001b[1mDownloading https://files.pushshift.io/reddit/submissions/RS_2009-08.zst.\u001b[0m\n",
            "\u001b[32m2022-03-07 23:02:28.064\u001b[0m | \u001b[34m\u001b[1mDEBUG   \u001b[0m | \u001b[36m__main__\u001b[0m:\u001b[36mdownload_dumps\u001b[0m:\u001b[36m92\u001b[0m - \u001b[34m\u001b[1mhttps://files.pushshift.io/reddit/submissions/RS_2009-08.bz2 does not exist. Skipping.\u001b[0m\n",
            "\u001b[32m2022-03-07 23:02:28.458\u001b[0m | \u001b[34m\u001b[1mDEBUG   \u001b[0m | \u001b[36m__main__\u001b[0m:\u001b[36mdownload_dumps\u001b[0m:\u001b[36m89\u001b[0m - \u001b[34m\u001b[1mDownloading https://files.pushshift.io/reddit/submissions/RS_2009-09.zst.\u001b[0m\n",
            "\u001b[32m2022-03-07 23:02:32.346\u001b[0m | \u001b[34m\u001b[1mDEBUG   \u001b[0m | \u001b[36m__main__\u001b[0m:\u001b[36mdownload_dumps\u001b[0m:\u001b[36m92\u001b[0m - \u001b[34m\u001b[1mhttps://files.pushshift.io/reddit/submissions/RS_2009-09.bz2 does not exist. Skipping.\u001b[0m\n",
            "\u001b[32m2022-03-07 23:02:32.776\u001b[0m | \u001b[34m\u001b[1mDEBUG   \u001b[0m | \u001b[36m__main__\u001b[0m:\u001b[36mdownload_dumps\u001b[0m:\u001b[36m89\u001b[0m - \u001b[34m\u001b[1mDownloading https://files.pushshift.io/reddit/submissions/RS_2009-10.zst.\u001b[0m\n",
            "\u001b[32m2022-03-07 23:02:36.810\u001b[0m | \u001b[34m\u001b[1mDEBUG   \u001b[0m | \u001b[36m__main__\u001b[0m:\u001b[36mdownload_dumps\u001b[0m:\u001b[36m92\u001b[0m - \u001b[34m\u001b[1mhttps://files.pushshift.io/reddit/submissions/RS_2009-10.bz2 does not exist. Skipping.\u001b[0m\n",
            "\u001b[32m2022-03-07 23:02:37.220\u001b[0m | \u001b[34m\u001b[1mDEBUG   \u001b[0m | \u001b[36m__main__\u001b[0m:\u001b[36mdownload_dumps\u001b[0m:\u001b[36m89\u001b[0m - \u001b[34m\u001b[1mDownloading https://files.pushshift.io/reddit/submissions/RS_2009-11.zst.\u001b[0m\n",
            "\u001b[32m2022-03-07 23:02:41.070\u001b[0m | \u001b[34m\u001b[1mDEBUG   \u001b[0m | \u001b[36m__main__\u001b[0m:\u001b[36mdownload_dumps\u001b[0m:\u001b[36m92\u001b[0m - \u001b[34m\u001b[1mhttps://files.pushshift.io/reddit/submissions/RS_2009-11.bz2 does not exist. Skipping.\u001b[0m\n",
            "\u001b[32m2022-03-07 23:02:41.312\u001b[0m | \u001b[34m\u001b[1mDEBUG   \u001b[0m | \u001b[36m__main__\u001b[0m:\u001b[36mdownload_dumps\u001b[0m:\u001b[36m89\u001b[0m - \u001b[34m\u001b[1mDownloading https://files.pushshift.io/reddit/submissions/RS_2009-12.zst.\u001b[0m\n",
            "\u001b[32m2022-03-07 23:02:45.169\u001b[0m | \u001b[34m\u001b[1mDEBUG   \u001b[0m | \u001b[36m__main__\u001b[0m:\u001b[36mdownload_dumps\u001b[0m:\u001b[36m92\u001b[0m - \u001b[34m\u001b[1mhttps://files.pushshift.io/reddit/submissions/RS_2009-12.bz2 does not exist. Skipping.\u001b[0m\n",
            "\u001b[32m2022-03-07 23:02:45.573\u001b[0m | \u001b[34m\u001b[1mDEBUG   \u001b[0m | \u001b[36m__main__\u001b[0m:\u001b[36mdownload_dumps\u001b[0m:\u001b[36m89\u001b[0m - \u001b[34m\u001b[1mDownloading https://files.pushshift.io/reddit/submissions/RS_2010-01.zst.\u001b[0m\n",
            "\u001b[32m2022-03-07 23:02:50.752\u001b[0m | \u001b[34m\u001b[1mDEBUG   \u001b[0m | \u001b[36m__main__\u001b[0m:\u001b[36mdownload_dumps\u001b[0m:\u001b[36m92\u001b[0m - \u001b[34m\u001b[1mhttps://files.pushshift.io/reddit/submissions/RS_2010-01.bz2 does not exist. Skipping.\u001b[0m\n",
            "\u001b[32m2022-03-07 23:02:50.984\u001b[0m | \u001b[34m\u001b[1mDEBUG   \u001b[0m | \u001b[36m__main__\u001b[0m:\u001b[36mdownload_dumps\u001b[0m:\u001b[36m89\u001b[0m - \u001b[34m\u001b[1mDownloading https://files.pushshift.io/reddit/submissions/RS_2010-02.zst.\u001b[0m\n",
            "\u001b[32m2022-03-07 23:02:55.084\u001b[0m | \u001b[34m\u001b[1mDEBUG   \u001b[0m | \u001b[36m__main__\u001b[0m:\u001b[36mdownload_dumps\u001b[0m:\u001b[36m92\u001b[0m - \u001b[34m\u001b[1mhttps://files.pushshift.io/reddit/submissions/RS_2010-02.bz2 does not exist. Skipping.\u001b[0m\n",
            "\u001b[32m2022-03-07 23:02:55.489\u001b[0m | \u001b[34m\u001b[1mDEBUG   \u001b[0m | \u001b[36m__main__\u001b[0m:\u001b[36mdownload_dumps\u001b[0m:\u001b[36m89\u001b[0m - \u001b[34m\u001b[1mDownloading https://files.pushshift.io/reddit/submissions/RS_2010-03.zst.\u001b[0m\n",
            "\u001b[32m2022-03-07 23:03:00.360\u001b[0m | \u001b[34m\u001b[1mDEBUG   \u001b[0m | \u001b[36m__main__\u001b[0m:\u001b[36mdownload_dumps\u001b[0m:\u001b[36m92\u001b[0m - \u001b[34m\u001b[1mhttps://files.pushshift.io/reddit/submissions/RS_2010-03.bz2 does not exist. Skipping.\u001b[0m\n",
            "\u001b[32m2022-03-07 23:03:00.795\u001b[0m | \u001b[34m\u001b[1mDEBUG   \u001b[0m | \u001b[36m__main__\u001b[0m:\u001b[36mdownload_dumps\u001b[0m:\u001b[36m89\u001b[0m - \u001b[34m\u001b[1mDownloading https://files.pushshift.io/reddit/submissions/RS_2010-04.zst.\u001b[0m\n",
            "\u001b[32m2022-03-07 23:03:05.733\u001b[0m | \u001b[34m\u001b[1mDEBUG   \u001b[0m | \u001b[36m__main__\u001b[0m:\u001b[36mdownload_dumps\u001b[0m:\u001b[36m92\u001b[0m - \u001b[34m\u001b[1mhttps://files.pushshift.io/reddit/submissions/RS_2010-04.bz2 does not exist. Skipping.\u001b[0m\n",
            "\u001b[32m2022-03-07 23:03:06.161\u001b[0m | \u001b[34m\u001b[1mDEBUG   \u001b[0m | \u001b[36m__main__\u001b[0m:\u001b[36mdownload_dumps\u001b[0m:\u001b[36m89\u001b[0m - \u001b[34m\u001b[1mDownloading https://files.pushshift.io/reddit/submissions/RS_2010-05.zst.\u001b[0m\n",
            "\u001b[32m2022-03-07 23:03:10.380\u001b[0m | \u001b[34m\u001b[1mDEBUG   \u001b[0m | \u001b[36m__main__\u001b[0m:\u001b[36mdownload_dumps\u001b[0m:\u001b[36m92\u001b[0m - \u001b[34m\u001b[1mhttps://files.pushshift.io/reddit/submissions/RS_2010-05.bz2 does not exist. Skipping.\u001b[0m\n",
            "\u001b[32m2022-03-07 23:03:10.793\u001b[0m | \u001b[34m\u001b[1mDEBUG   \u001b[0m | \u001b[36m__main__\u001b[0m:\u001b[36mdownload_dumps\u001b[0m:\u001b[36m89\u001b[0m - \u001b[34m\u001b[1mDownloading https://files.pushshift.io/reddit/submissions/RS_2010-06.zst.\u001b[0m\n",
            "\u001b[32m2022-03-07 23:03:15.591\u001b[0m | \u001b[34m\u001b[1mDEBUG   \u001b[0m | \u001b[36m__main__\u001b[0m:\u001b[36mdownload_dumps\u001b[0m:\u001b[36m92\u001b[0m - \u001b[34m\u001b[1mhttps://files.pushshift.io/reddit/submissions/RS_2010-06.bz2 does not exist. Skipping.\u001b[0m\n",
            "\u001b[32m2022-03-07 23:03:16.025\u001b[0m | \u001b[34m\u001b[1mDEBUG   \u001b[0m | \u001b[36m__main__\u001b[0m:\u001b[36mdownload_dumps\u001b[0m:\u001b[36m89\u001b[0m - \u001b[34m\u001b[1mDownloading https://files.pushshift.io/reddit/submissions/RS_2010-07.zst.\u001b[0m\n",
            "\u001b[32m2022-03-07 23:03:20.414\u001b[0m | \u001b[34m\u001b[1mDEBUG   \u001b[0m | \u001b[36m__main__\u001b[0m:\u001b[36mdownload_dumps\u001b[0m:\u001b[36m92\u001b[0m - \u001b[34m\u001b[1mhttps://files.pushshift.io/reddit/submissions/RS_2010-07.bz2 does not exist. Skipping.\u001b[0m\n",
            "\u001b[32m2022-03-07 23:03:20.809\u001b[0m | \u001b[34m\u001b[1mDEBUG   \u001b[0m | \u001b[36m__main__\u001b[0m:\u001b[36mdownload_dumps\u001b[0m:\u001b[36m89\u001b[0m - \u001b[34m\u001b[1mDownloading https://files.pushshift.io/reddit/submissions/RS_2010-08.zst.\u001b[0m\n",
            "\u001b[32m2022-03-07 23:03:25.941\u001b[0m | \u001b[34m\u001b[1mDEBUG   \u001b[0m | \u001b[36m__main__\u001b[0m:\u001b[36mdownload_dumps\u001b[0m:\u001b[36m92\u001b[0m - \u001b[34m\u001b[1mhttps://files.pushshift.io/reddit/submissions/RS_2010-08.bz2 does not exist. Skipping.\u001b[0m\n",
            "\u001b[32m2022-03-07 23:03:26.338\u001b[0m | \u001b[34m\u001b[1mDEBUG   \u001b[0m | \u001b[36m__main__\u001b[0m:\u001b[36mdownload_dumps\u001b[0m:\u001b[36m89\u001b[0m - \u001b[34m\u001b[1mDownloading https://files.pushshift.io/reddit/submissions/RS_2010-09.zst.\u001b[0m\n",
            "\u001b[32m2022-03-07 23:03:31.502\u001b[0m | \u001b[34m\u001b[1mDEBUG   \u001b[0m | \u001b[36m__main__\u001b[0m:\u001b[36mdownload_dumps\u001b[0m:\u001b[36m92\u001b[0m - \u001b[34m\u001b[1mhttps://files.pushshift.io/reddit/submissions/RS_2010-09.bz2 does not exist. Skipping.\u001b[0m\n",
            "\u001b[32m2022-03-07 23:03:31.934\u001b[0m | \u001b[34m\u001b[1mDEBUG   \u001b[0m | \u001b[36m__main__\u001b[0m:\u001b[36mdownload_dumps\u001b[0m:\u001b[36m89\u001b[0m - \u001b[34m\u001b[1mDownloading https://files.pushshift.io/reddit/submissions/RS_2010-10.zst.\u001b[0m\n",
            "\u001b[32m2022-03-07 23:03:37.768\u001b[0m | \u001b[34m\u001b[1mDEBUG   \u001b[0m | \u001b[36m__main__\u001b[0m:\u001b[36mdownload_dumps\u001b[0m:\u001b[36m92\u001b[0m - \u001b[34m\u001b[1mhttps://files.pushshift.io/reddit/submissions/RS_2010-10.bz2 does not exist. Skipping.\u001b[0m\n",
            "\u001b[32m2022-03-07 23:03:38.199\u001b[0m | \u001b[34m\u001b[1mDEBUG   \u001b[0m | \u001b[36m__main__\u001b[0m:\u001b[36mdownload_dumps\u001b[0m:\u001b[36m89\u001b[0m - \u001b[34m\u001b[1mDownloading https://files.pushshift.io/reddit/submissions/RS_2010-11.zst.\u001b[0m\n",
            "\u001b[32m2022-03-07 23:03:44.292\u001b[0m | \u001b[34m\u001b[1mDEBUG   \u001b[0m | \u001b[36m__main__\u001b[0m:\u001b[36mdownload_dumps\u001b[0m:\u001b[36m92\u001b[0m - \u001b[34m\u001b[1mhttps://files.pushshift.io/reddit/submissions/RS_2010-11.bz2 does not exist. Skipping.\u001b[0m\n",
            "\u001b[32m2022-03-07 23:03:44.514\u001b[0m | \u001b[34m\u001b[1mDEBUG   \u001b[0m | \u001b[36m__main__\u001b[0m:\u001b[36mdownload_dumps\u001b[0m:\u001b[36m89\u001b[0m - \u001b[34m\u001b[1mDownloading https://files.pushshift.io/reddit/submissions/RS_2010-12.zst.\u001b[0m\n",
            "\u001b[32m2022-03-07 23:03:51.552\u001b[0m | \u001b[34m\u001b[1mDEBUG   \u001b[0m | \u001b[36m__main__\u001b[0m:\u001b[36mdownload_dumps\u001b[0m:\u001b[36m92\u001b[0m - \u001b[34m\u001b[1mhttps://files.pushshift.io/reddit/submissions/RS_2010-12.bz2 does not exist. Skipping.\u001b[0m\n",
            "\u001b[32m2022-03-07 23:03:51.958\u001b[0m | \u001b[34m\u001b[1mDEBUG   \u001b[0m | \u001b[36m__main__\u001b[0m:\u001b[36mdownload_dumps\u001b[0m:\u001b[36m98\u001b[0m - \u001b[34m\u001b[1mhttps://files.pushshift.io/reddit/comments/RC_2006-01.zst does not exist. Skipping.\u001b[0m\n",
            "\u001b[32m2022-03-07 23:03:52.405\u001b[0m | \u001b[34m\u001b[1mDEBUG   \u001b[0m | \u001b[36m__main__\u001b[0m:\u001b[36mdownload_dumps\u001b[0m:\u001b[36m95\u001b[0m - \u001b[34m\u001b[1mDownloading https://files.pushshift.io/reddit/comments/RC_2006-01.bz2.\u001b[0m\n",
            "\u001b[32m2022-03-07 23:03:53.622\u001b[0m | \u001b[34m\u001b[1mDEBUG   \u001b[0m | \u001b[36m__main__\u001b[0m:\u001b[36mdownload_dumps\u001b[0m:\u001b[36m98\u001b[0m - \u001b[34m\u001b[1mhttps://files.pushshift.io/reddit/comments/RC_2006-02.zst does not exist. Skipping.\u001b[0m\n",
            "\u001b[32m2022-03-07 23:03:53.834\u001b[0m | \u001b[34m\u001b[1mDEBUG   \u001b[0m | \u001b[36m__main__\u001b[0m:\u001b[36mdownload_dumps\u001b[0m:\u001b[36m95\u001b[0m - \u001b[34m\u001b[1mDownloading https://files.pushshift.io/reddit/comments/RC_2006-02.bz2.\u001b[0m\n",
            "\u001b[32m2022-03-07 23:03:55.237\u001b[0m | \u001b[34m\u001b[1mDEBUG   \u001b[0m | \u001b[36m__main__\u001b[0m:\u001b[36mdownload_dumps\u001b[0m:\u001b[36m98\u001b[0m - \u001b[34m\u001b[1mhttps://files.pushshift.io/reddit/comments/RC_2006-03.zst does not exist. Skipping.\u001b[0m\n",
            "\u001b[32m2022-03-07 23:03:55.671\u001b[0m | \u001b[34m\u001b[1mDEBUG   \u001b[0m | \u001b[36m__main__\u001b[0m:\u001b[36mdownload_dumps\u001b[0m:\u001b[36m95\u001b[0m - \u001b[34m\u001b[1mDownloading https://files.pushshift.io/reddit/comments/RC_2006-03.bz2.\u001b[0m\n",
            "\u001b[32m2022-03-07 23:03:56.818\u001b[0m | \u001b[34m\u001b[1mDEBUG   \u001b[0m | \u001b[36m__main__\u001b[0m:\u001b[36mdownload_dumps\u001b[0m:\u001b[36m98\u001b[0m - \u001b[34m\u001b[1mhttps://files.pushshift.io/reddit/comments/RC_2006-04.zst does not exist. Skipping.\u001b[0m\n",
            "\u001b[32m2022-03-07 23:03:57.213\u001b[0m | \u001b[34m\u001b[1mDEBUG   \u001b[0m | \u001b[36m__main__\u001b[0m:\u001b[36mdownload_dumps\u001b[0m:\u001b[36m95\u001b[0m - \u001b[34m\u001b[1mDownloading https://files.pushshift.io/reddit/comments/RC_2006-04.bz2.\u001b[0m\n",
            "\u001b[32m2022-03-07 23:03:58.256\u001b[0m | \u001b[34m\u001b[1mDEBUG   \u001b[0m | \u001b[36m__main__\u001b[0m:\u001b[36mdownload_dumps\u001b[0m:\u001b[36m98\u001b[0m - \u001b[34m\u001b[1mhttps://files.pushshift.io/reddit/comments/RC_2006-05.zst does not exist. Skipping.\u001b[0m\n",
            "\u001b[32m2022-03-07 23:03:58.487\u001b[0m | \u001b[34m\u001b[1mDEBUG   \u001b[0m | \u001b[36m__main__\u001b[0m:\u001b[36mdownload_dumps\u001b[0m:\u001b[36m95\u001b[0m - \u001b[34m\u001b[1mDownloading https://files.pushshift.io/reddit/comments/RC_2006-05.bz2.\u001b[0m\n",
            "\u001b[32m2022-03-07 23:03:59.478\u001b[0m | \u001b[34m\u001b[1mDEBUG   \u001b[0m | \u001b[36m__main__\u001b[0m:\u001b[36mdownload_dumps\u001b[0m:\u001b[36m98\u001b[0m - \u001b[34m\u001b[1mhttps://files.pushshift.io/reddit/comments/RC_2006-06.zst does not exist. Skipping.\u001b[0m\n",
            "\u001b[32m2022-03-07 23:03:59.896\u001b[0m | \u001b[34m\u001b[1mDEBUG   \u001b[0m | \u001b[36m__main__\u001b[0m:\u001b[36mdownload_dumps\u001b[0m:\u001b[36m95\u001b[0m - \u001b[34m\u001b[1mDownloading https://files.pushshift.io/reddit/comments/RC_2006-06.bz2.\u001b[0m\n",
            "\u001b[32m2022-03-07 23:04:01.365\u001b[0m | \u001b[34m\u001b[1mDEBUG   \u001b[0m | \u001b[36m__main__\u001b[0m:\u001b[36mdownload_dumps\u001b[0m:\u001b[36m98\u001b[0m - \u001b[34m\u001b[1mhttps://files.pushshift.io/reddit/comments/RC_2006-07.zst does not exist. Skipping.\u001b[0m\n",
            "\u001b[32m2022-03-07 23:04:01.657\u001b[0m | \u001b[34m\u001b[1mDEBUG   \u001b[0m | \u001b[36m__main__\u001b[0m:\u001b[36mdownload_dumps\u001b[0m:\u001b[36m95\u001b[0m - \u001b[34m\u001b[1mDownloading https://files.pushshift.io/reddit/comments/RC_2006-07.bz2.\u001b[0m\n",
            "\u001b[32m2022-03-07 23:04:02.710\u001b[0m | \u001b[34m\u001b[1mDEBUG   \u001b[0m | \u001b[36m__main__\u001b[0m:\u001b[36mdownload_dumps\u001b[0m:\u001b[36m98\u001b[0m - \u001b[34m\u001b[1mhttps://files.pushshift.io/reddit/comments/RC_2006-08.zst does not exist. Skipping.\u001b[0m\n",
            "\u001b[32m2022-03-07 23:04:02.972\u001b[0m | \u001b[34m\u001b[1mDEBUG   \u001b[0m | \u001b[36m__main__\u001b[0m:\u001b[36mdownload_dumps\u001b[0m:\u001b[36m95\u001b[0m - \u001b[34m\u001b[1mDownloading https://files.pushshift.io/reddit/comments/RC_2006-08.bz2.\u001b[0m\n",
            "\u001b[32m2022-03-07 23:04:04.044\u001b[0m | \u001b[34m\u001b[1mDEBUG   \u001b[0m | \u001b[36m__main__\u001b[0m:\u001b[36mdownload_dumps\u001b[0m:\u001b[36m98\u001b[0m - \u001b[34m\u001b[1mhttps://files.pushshift.io/reddit/comments/RC_2006-09.zst does not exist. Skipping.\u001b[0m\n",
            "\u001b[32m2022-03-07 23:04:04.464\u001b[0m | \u001b[34m\u001b[1mDEBUG   \u001b[0m | \u001b[36m__main__\u001b[0m:\u001b[36mdownload_dumps\u001b[0m:\u001b[36m95\u001b[0m - \u001b[34m\u001b[1mDownloading https://files.pushshift.io/reddit/comments/RC_2006-09.bz2.\u001b[0m\n",
            "\u001b[32m2022-03-07 23:04:05.828\u001b[0m | \u001b[34m\u001b[1mDEBUG   \u001b[0m | \u001b[36m__main__\u001b[0m:\u001b[36mdownload_dumps\u001b[0m:\u001b[36m98\u001b[0m - \u001b[34m\u001b[1mhttps://files.pushshift.io/reddit/comments/RC_2006-10.zst does not exist. Skipping.\u001b[0m\n",
            "\u001b[32m2022-03-07 23:04:06.221\u001b[0m | \u001b[34m\u001b[1mDEBUG   \u001b[0m | \u001b[36m__main__\u001b[0m:\u001b[36mdownload_dumps\u001b[0m:\u001b[36m95\u001b[0m - \u001b[34m\u001b[1mDownloading https://files.pushshift.io/reddit/comments/RC_2006-10.bz2.\u001b[0m\n",
            "\u001b[32m2022-03-07 23:04:07.856\u001b[0m | \u001b[34m\u001b[1mDEBUG   \u001b[0m | \u001b[36m__main__\u001b[0m:\u001b[36mdownload_dumps\u001b[0m:\u001b[36m98\u001b[0m - \u001b[34m\u001b[1mhttps://files.pushshift.io/reddit/comments/RC_2006-11.zst does not exist. Skipping.\u001b[0m\n",
            "\u001b[32m2022-03-07 23:04:08.286\u001b[0m | \u001b[34m\u001b[1mDEBUG   \u001b[0m | \u001b[36m__main__\u001b[0m:\u001b[36mdownload_dumps\u001b[0m:\u001b[36m95\u001b[0m - \u001b[34m\u001b[1mDownloading https://files.pushshift.io/reddit/comments/RC_2006-11.bz2.\u001b[0m\n",
            "\u001b[32m2022-03-07 23:04:09.850\u001b[0m | \u001b[34m\u001b[1mDEBUG   \u001b[0m | \u001b[36m__main__\u001b[0m:\u001b[36mdownload_dumps\u001b[0m:\u001b[36m98\u001b[0m - \u001b[34m\u001b[1mhttps://files.pushshift.io/reddit/comments/RC_2006-12.zst does not exist. Skipping.\u001b[0m\n",
            "\u001b[32m2022-03-07 23:04:10.304\u001b[0m | \u001b[34m\u001b[1mDEBUG   \u001b[0m | \u001b[36m__main__\u001b[0m:\u001b[36mdownload_dumps\u001b[0m:\u001b[36m95\u001b[0m - \u001b[34m\u001b[1mDownloading https://files.pushshift.io/reddit/comments/RC_2006-12.bz2.\u001b[0m\n",
            "\u001b[32m2022-03-07 23:04:11.564\u001b[0m | \u001b[34m\u001b[1mDEBUG   \u001b[0m | \u001b[36m__main__\u001b[0m:\u001b[36mdownload_dumps\u001b[0m:\u001b[36m98\u001b[0m - \u001b[34m\u001b[1mhttps://files.pushshift.io/reddit/comments/RC_2007-01.zst does not exist. Skipping.\u001b[0m\n",
            "\u001b[32m2022-03-07 23:04:11.986\u001b[0m | \u001b[34m\u001b[1mDEBUG   \u001b[0m | \u001b[36m__main__\u001b[0m:\u001b[36mdownload_dumps\u001b[0m:\u001b[36m95\u001b[0m - \u001b[34m\u001b[1mDownloading https://files.pushshift.io/reddit/comments/RC_2007-01.bz2.\u001b[0m\n",
            "\u001b[32m2022-03-07 23:04:13.284\u001b[0m | \u001b[34m\u001b[1mDEBUG   \u001b[0m | \u001b[36m__main__\u001b[0m:\u001b[36mdownload_dumps\u001b[0m:\u001b[36m98\u001b[0m - \u001b[34m\u001b[1mhttps://files.pushshift.io/reddit/comments/RC_2007-02.zst does not exist. Skipping.\u001b[0m\n",
            "\u001b[32m2022-03-07 23:04:13.707\u001b[0m | \u001b[34m\u001b[1mDEBUG   \u001b[0m | \u001b[36m__main__\u001b[0m:\u001b[36mdownload_dumps\u001b[0m:\u001b[36m95\u001b[0m - \u001b[34m\u001b[1mDownloading https://files.pushshift.io/reddit/comments/RC_2007-02.bz2.\u001b[0m\n",
            "\u001b[32m2022-03-07 23:04:15.476\u001b[0m | \u001b[34m\u001b[1mDEBUG   \u001b[0m | \u001b[36m__main__\u001b[0m:\u001b[36mdownload_dumps\u001b[0m:\u001b[36m98\u001b[0m - \u001b[34m\u001b[1mhttps://files.pushshift.io/reddit/comments/RC_2007-03.zst does not exist. Skipping.\u001b[0m\n",
            "\u001b[32m2022-03-07 23:04:15.900\u001b[0m | \u001b[34m\u001b[1mDEBUG   \u001b[0m | \u001b[36m__main__\u001b[0m:\u001b[36mdownload_dumps\u001b[0m:\u001b[36m95\u001b[0m - \u001b[34m\u001b[1mDownloading https://files.pushshift.io/reddit/comments/RC_2007-03.bz2.\u001b[0m\n",
            "\u001b[32m2022-03-07 23:04:17.672\u001b[0m | \u001b[34m\u001b[1mDEBUG   \u001b[0m | \u001b[36m__main__\u001b[0m:\u001b[36mdownload_dumps\u001b[0m:\u001b[36m98\u001b[0m - \u001b[34m\u001b[1mhttps://files.pushshift.io/reddit/comments/RC_2007-04.zst does not exist. Skipping.\u001b[0m\n",
            "\u001b[32m2022-03-07 23:04:18.131\u001b[0m | \u001b[34m\u001b[1mDEBUG   \u001b[0m | \u001b[36m__main__\u001b[0m:\u001b[36mdownload_dumps\u001b[0m:\u001b[36m95\u001b[0m - \u001b[34m\u001b[1mDownloading https://files.pushshift.io/reddit/comments/RC_2007-04.bz2.\u001b[0m\n",
            "\u001b[32m2022-03-07 23:04:19.790\u001b[0m | \u001b[34m\u001b[1mDEBUG   \u001b[0m | \u001b[36m__main__\u001b[0m:\u001b[36mdownload_dumps\u001b[0m:\u001b[36m98\u001b[0m - \u001b[34m\u001b[1mhttps://files.pushshift.io/reddit/comments/RC_2007-05.zst does not exist. Skipping.\u001b[0m\n",
            "\u001b[32m2022-03-07 23:04:20.199\u001b[0m | \u001b[34m\u001b[1mDEBUG   \u001b[0m | \u001b[36m__main__\u001b[0m:\u001b[36mdownload_dumps\u001b[0m:\u001b[36m95\u001b[0m - \u001b[34m\u001b[1mDownloading https://files.pushshift.io/reddit/comments/RC_2007-05.bz2.\u001b[0m\n",
            "\u001b[32m2022-03-07 23:04:21.787\u001b[0m | \u001b[34m\u001b[1mDEBUG   \u001b[0m | \u001b[36m__main__\u001b[0m:\u001b[36mdownload_dumps\u001b[0m:\u001b[36m98\u001b[0m - \u001b[34m\u001b[1mhttps://files.pushshift.io/reddit/comments/RC_2007-06.zst does not exist. Skipping.\u001b[0m\n",
            "\u001b[32m2022-03-07 23:04:22.221\u001b[0m | \u001b[34m\u001b[1mDEBUG   \u001b[0m | \u001b[36m__main__\u001b[0m:\u001b[36mdownload_dumps\u001b[0m:\u001b[36m95\u001b[0m - \u001b[34m\u001b[1mDownloading https://files.pushshift.io/reddit/comments/RC_2007-06.bz2.\u001b[0m\n",
            "\u001b[32m2022-03-07 23:04:24.218\u001b[0m | \u001b[34m\u001b[1mDEBUG   \u001b[0m | \u001b[36m__main__\u001b[0m:\u001b[36mdownload_dumps\u001b[0m:\u001b[36m98\u001b[0m - \u001b[34m\u001b[1mhttps://files.pushshift.io/reddit/comments/RC_2007-07.zst does not exist. Skipping.\u001b[0m\n",
            "\u001b[32m2022-03-07 23:04:24.643\u001b[0m | \u001b[34m\u001b[1mDEBUG   \u001b[0m | \u001b[36m__main__\u001b[0m:\u001b[36mdownload_dumps\u001b[0m:\u001b[36m95\u001b[0m - \u001b[34m\u001b[1mDownloading https://files.pushshift.io/reddit/comments/RC_2007-07.bz2.\u001b[0m\n",
            "\u001b[32m2022-03-07 23:04:26.317\u001b[0m | \u001b[34m\u001b[1mDEBUG   \u001b[0m | \u001b[36m__main__\u001b[0m:\u001b[36mdownload_dumps\u001b[0m:\u001b[36m98\u001b[0m - \u001b[34m\u001b[1mhttps://files.pushshift.io/reddit/comments/RC_2007-08.zst does not exist. Skipping.\u001b[0m\n",
            "\u001b[32m2022-03-07 23:04:26.720\u001b[0m | \u001b[34m\u001b[1mDEBUG   \u001b[0m | \u001b[36m__main__\u001b[0m:\u001b[36mdownload_dumps\u001b[0m:\u001b[36m95\u001b[0m - \u001b[34m\u001b[1mDownloading https://files.pushshift.io/reddit/comments/RC_2007-08.bz2.\u001b[0m\n",
            "\u001b[32m2022-03-07 23:04:28.877\u001b[0m | \u001b[34m\u001b[1mDEBUG   \u001b[0m | \u001b[36m__main__\u001b[0m:\u001b[36mdownload_dumps\u001b[0m:\u001b[36m98\u001b[0m - \u001b[34m\u001b[1mhttps://files.pushshift.io/reddit/comments/RC_2007-09.zst does not exist. Skipping.\u001b[0m\n",
            "\u001b[32m2022-03-07 23:04:29.283\u001b[0m | \u001b[34m\u001b[1mDEBUG   \u001b[0m | \u001b[36m__main__\u001b[0m:\u001b[36mdownload_dumps\u001b[0m:\u001b[36m95\u001b[0m - \u001b[34m\u001b[1mDownloading https://files.pushshift.io/reddit/comments/RC_2007-09.bz2.\u001b[0m\n",
            "\u001b[32m2022-03-07 23:04:31.119\u001b[0m | \u001b[34m\u001b[1mDEBUG   \u001b[0m | \u001b[36m__main__\u001b[0m:\u001b[36mdownload_dumps\u001b[0m:\u001b[36m98\u001b[0m - \u001b[34m\u001b[1mhttps://files.pushshift.io/reddit/comments/RC_2007-10.zst does not exist. Skipping.\u001b[0m\n",
            "\u001b[32m2022-03-07 23:04:31.556\u001b[0m | \u001b[34m\u001b[1mDEBUG   \u001b[0m | \u001b[36m__main__\u001b[0m:\u001b[36mdownload_dumps\u001b[0m:\u001b[36m95\u001b[0m - \u001b[34m\u001b[1mDownloading https://files.pushshift.io/reddit/comments/RC_2007-10.bz2.\u001b[0m\n",
            "\u001b[32m2022-03-07 23:04:34.047\u001b[0m | \u001b[34m\u001b[1mDEBUG   \u001b[0m | \u001b[36m__main__\u001b[0m:\u001b[36mdownload_dumps\u001b[0m:\u001b[36m98\u001b[0m - \u001b[34m\u001b[1mhttps://files.pushshift.io/reddit/comments/RC_2007-11.zst does not exist. Skipping.\u001b[0m\n",
            "\u001b[32m2022-03-07 23:04:34.480\u001b[0m | \u001b[34m\u001b[1mDEBUG   \u001b[0m | \u001b[36m__main__\u001b[0m:\u001b[36mdownload_dumps\u001b[0m:\u001b[36m95\u001b[0m - \u001b[34m\u001b[1mDownloading https://files.pushshift.io/reddit/comments/RC_2007-11.bz2.\u001b[0m\n",
            "\u001b[32m2022-03-07 23:04:36.948\u001b[0m | \u001b[34m\u001b[1mDEBUG   \u001b[0m | \u001b[36m__main__\u001b[0m:\u001b[36mdownload_dumps\u001b[0m:\u001b[36m98\u001b[0m - \u001b[34m\u001b[1mhttps://files.pushshift.io/reddit/comments/RC_2007-12.zst does not exist. Skipping.\u001b[0m\n",
            "\u001b[32m2022-03-07 23:04:37.396\u001b[0m | \u001b[34m\u001b[1mDEBUG   \u001b[0m | \u001b[36m__main__\u001b[0m:\u001b[36mdownload_dumps\u001b[0m:\u001b[36m95\u001b[0m - \u001b[34m\u001b[1mDownloading https://files.pushshift.io/reddit/comments/RC_2007-12.bz2.\u001b[0m\n",
            "\u001b[32m2022-03-07 23:04:39.718\u001b[0m | \u001b[34m\u001b[1mDEBUG   \u001b[0m | \u001b[36m__main__\u001b[0m:\u001b[36mdownload_dumps\u001b[0m:\u001b[36m98\u001b[0m - \u001b[34m\u001b[1mhttps://files.pushshift.io/reddit/comments/RC_2008-01.zst does not exist. Skipping.\u001b[0m\n",
            "\u001b[32m2022-03-07 23:04:40.147\u001b[0m | \u001b[34m\u001b[1mDEBUG   \u001b[0m | \u001b[36m__main__\u001b[0m:\u001b[36mdownload_dumps\u001b[0m:\u001b[36m95\u001b[0m - \u001b[34m\u001b[1mDownloading https://files.pushshift.io/reddit/comments/RC_2008-01.bz2.\u001b[0m\n",
            "\u001b[32m2022-03-07 23:04:43.663\u001b[0m | \u001b[34m\u001b[1mDEBUG   \u001b[0m | \u001b[36m__main__\u001b[0m:\u001b[36mdownload_dumps\u001b[0m:\u001b[36m98\u001b[0m - \u001b[34m\u001b[1mhttps://files.pushshift.io/reddit/comments/RC_2008-02.zst does not exist. Skipping.\u001b[0m\n",
            "\u001b[32m2022-03-07 23:04:44.082\u001b[0m | \u001b[34m\u001b[1mDEBUG   \u001b[0m | \u001b[36m__main__\u001b[0m:\u001b[36mdownload_dumps\u001b[0m:\u001b[36m95\u001b[0m - \u001b[34m\u001b[1mDownloading https://files.pushshift.io/reddit/comments/RC_2008-02.bz2.\u001b[0m\n",
            "\u001b[32m2022-03-07 23:04:47.297\u001b[0m | \u001b[34m\u001b[1mDEBUG   \u001b[0m | \u001b[36m__main__\u001b[0m:\u001b[36mdownload_dumps\u001b[0m:\u001b[36m98\u001b[0m - \u001b[34m\u001b[1mhttps://files.pushshift.io/reddit/comments/RC_2008-03.zst does not exist. Skipping.\u001b[0m\n",
            "\u001b[32m2022-03-07 23:04:47.741\u001b[0m | \u001b[34m\u001b[1mDEBUG   \u001b[0m | \u001b[36m__main__\u001b[0m:\u001b[36mdownload_dumps\u001b[0m:\u001b[36m95\u001b[0m - \u001b[34m\u001b[1mDownloading https://files.pushshift.io/reddit/comments/RC_2008-03.bz2.\u001b[0m\n",
            "\u001b[32m2022-03-07 23:04:51.190\u001b[0m | \u001b[34m\u001b[1mDEBUG   \u001b[0m | \u001b[36m__main__\u001b[0m:\u001b[36mdownload_dumps\u001b[0m:\u001b[36m98\u001b[0m - \u001b[34m\u001b[1mhttps://files.pushshift.io/reddit/comments/RC_2008-04.zst does not exist. Skipping.\u001b[0m\n",
            "\u001b[32m2022-03-07 23:04:51.623\u001b[0m | \u001b[34m\u001b[1mDEBUG   \u001b[0m | \u001b[36m__main__\u001b[0m:\u001b[36mdownload_dumps\u001b[0m:\u001b[36m95\u001b[0m - \u001b[34m\u001b[1mDownloading https://files.pushshift.io/reddit/comments/RC_2008-04.bz2.\u001b[0m\n",
            "\u001b[32m2022-03-07 23:04:54.798\u001b[0m | \u001b[34m\u001b[1mDEBUG   \u001b[0m | \u001b[36m__main__\u001b[0m:\u001b[36mdownload_dumps\u001b[0m:\u001b[36m98\u001b[0m - \u001b[34m\u001b[1mhttps://files.pushshift.io/reddit/comments/RC_2008-05.zst does not exist. Skipping.\u001b[0m\n",
            "\u001b[32m2022-03-07 23:04:55.207\u001b[0m | \u001b[34m\u001b[1mDEBUG   \u001b[0m | \u001b[36m__main__\u001b[0m:\u001b[36mdownload_dumps\u001b[0m:\u001b[36m95\u001b[0m - \u001b[34m\u001b[1mDownloading https://files.pushshift.io/reddit/comments/RC_2008-05.bz2.\u001b[0m\n",
            "\u001b[32m2022-03-07 23:04:58.734\u001b[0m | \u001b[34m\u001b[1mDEBUG   \u001b[0m | \u001b[36m__main__\u001b[0m:\u001b[36mdownload_dumps\u001b[0m:\u001b[36m98\u001b[0m - \u001b[34m\u001b[1mhttps://files.pushshift.io/reddit/comments/RC_2008-06.zst does not exist. Skipping.\u001b[0m\n",
            "\u001b[32m2022-03-07 23:04:58.978\u001b[0m | \u001b[34m\u001b[1mDEBUG   \u001b[0m | \u001b[36m__main__\u001b[0m:\u001b[36mdownload_dumps\u001b[0m:\u001b[36m95\u001b[0m - \u001b[34m\u001b[1mDownloading https://files.pushshift.io/reddit/comments/RC_2008-06.bz2.\u001b[0m\n",
            "\u001b[32m2022-03-07 23:05:02.776\u001b[0m | \u001b[34m\u001b[1mDEBUG   \u001b[0m | \u001b[36m__main__\u001b[0m:\u001b[36mdownload_dumps\u001b[0m:\u001b[36m98\u001b[0m - \u001b[34m\u001b[1mhttps://files.pushshift.io/reddit/comments/RC_2008-07.zst does not exist. Skipping.\u001b[0m\n",
            "\u001b[32m2022-03-07 23:05:03.202\u001b[0m | \u001b[34m\u001b[1mDEBUG   \u001b[0m | \u001b[36m__main__\u001b[0m:\u001b[36mdownload_dumps\u001b[0m:\u001b[36m95\u001b[0m - \u001b[34m\u001b[1mDownloading https://files.pushshift.io/reddit/comments/RC_2008-07.bz2.\u001b[0m\n",
            "\u001b[32m2022-03-07 23:05:07.769\u001b[0m | \u001b[34m\u001b[1mDEBUG   \u001b[0m | \u001b[36m__main__\u001b[0m:\u001b[36mdownload_dumps\u001b[0m:\u001b[36m98\u001b[0m - \u001b[34m\u001b[1mhttps://files.pushshift.io/reddit/comments/RC_2008-08.zst does not exist. Skipping.\u001b[0m\n",
            "\u001b[32m2022-03-07 23:05:08.042\u001b[0m | \u001b[34m\u001b[1mDEBUG   \u001b[0m | \u001b[36m__main__\u001b[0m:\u001b[36mdownload_dumps\u001b[0m:\u001b[36m95\u001b[0m - \u001b[34m\u001b[1mDownloading https://files.pushshift.io/reddit/comments/RC_2008-08.bz2.\u001b[0m\n",
            "\u001b[32m2022-03-07 23:05:12.546\u001b[0m | \u001b[34m\u001b[1mDEBUG   \u001b[0m | \u001b[36m__main__\u001b[0m:\u001b[36mdownload_dumps\u001b[0m:\u001b[36m98\u001b[0m - \u001b[34m\u001b[1mhttps://files.pushshift.io/reddit/comments/RC_2008-09.zst does not exist. Skipping.\u001b[0m\n",
            "\u001b[32m2022-03-07 23:05:12.956\u001b[0m | \u001b[34m\u001b[1mDEBUG   \u001b[0m | \u001b[36m__main__\u001b[0m:\u001b[36mdownload_dumps\u001b[0m:\u001b[36m95\u001b[0m - \u001b[34m\u001b[1mDownloading https://files.pushshift.io/reddit/comments/RC_2008-09.bz2.\u001b[0m\n",
            "\u001b[32m2022-03-07 23:05:18.066\u001b[0m | \u001b[34m\u001b[1mDEBUG   \u001b[0m | \u001b[36m__main__\u001b[0m:\u001b[36mdownload_dumps\u001b[0m:\u001b[36m98\u001b[0m - \u001b[34m\u001b[1mhttps://files.pushshift.io/reddit/comments/RC_2008-10.zst does not exist. Skipping.\u001b[0m\n",
            "\u001b[32m2022-03-07 23:05:18.492\u001b[0m | \u001b[34m\u001b[1mDEBUG   \u001b[0m | \u001b[36m__main__\u001b[0m:\u001b[36mdownload_dumps\u001b[0m:\u001b[36m95\u001b[0m - \u001b[34m\u001b[1mDownloading https://files.pushshift.io/reddit/comments/RC_2008-10.bz2.\u001b[0m\n",
            "\u001b[32m2022-03-07 23:05:24.253\u001b[0m | \u001b[34m\u001b[1mDEBUG   \u001b[0m | \u001b[36m__main__\u001b[0m:\u001b[36mdownload_dumps\u001b[0m:\u001b[36m98\u001b[0m - \u001b[34m\u001b[1mhttps://files.pushshift.io/reddit/comments/RC_2008-11.zst does not exist. Skipping.\u001b[0m\n",
            "\u001b[32m2022-03-07 23:05:24.645\u001b[0m | \u001b[34m\u001b[1mDEBUG   \u001b[0m | \u001b[36m__main__\u001b[0m:\u001b[36mdownload_dumps\u001b[0m:\u001b[36m95\u001b[0m - \u001b[34m\u001b[1mDownloading https://files.pushshift.io/reddit/comments/RC_2008-11.bz2.\u001b[0m\n",
            "\u001b[32m2022-03-07 23:05:29.567\u001b[0m | \u001b[34m\u001b[1mDEBUG   \u001b[0m | \u001b[36m__main__\u001b[0m:\u001b[36mdownload_dumps\u001b[0m:\u001b[36m98\u001b[0m - \u001b[34m\u001b[1mhttps://files.pushshift.io/reddit/comments/RC_2008-12.zst does not exist. Skipping.\u001b[0m\n",
            "\u001b[32m2022-03-07 23:05:29.992\u001b[0m | \u001b[34m\u001b[1mDEBUG   \u001b[0m | \u001b[36m__main__\u001b[0m:\u001b[36mdownload_dumps\u001b[0m:\u001b[36m95\u001b[0m - \u001b[34m\u001b[1mDownloading https://files.pushshift.io/reddit/comments/RC_2008-12.bz2.\u001b[0m\n",
            "\u001b[32m2022-03-07 23:05:36.087\u001b[0m | \u001b[34m\u001b[1mDEBUG   \u001b[0m | \u001b[36m__main__\u001b[0m:\u001b[36mdownload_dumps\u001b[0m:\u001b[36m98\u001b[0m - \u001b[34m\u001b[1mhttps://files.pushshift.io/reddit/comments/RC_2009-01.zst does not exist. Skipping.\u001b[0m\n",
            "\u001b[32m2022-03-07 23:05:36.497\u001b[0m | \u001b[34m\u001b[1mDEBUG   \u001b[0m | \u001b[36m__main__\u001b[0m:\u001b[36mdownload_dumps\u001b[0m:\u001b[36m95\u001b[0m - \u001b[34m\u001b[1mDownloading https://files.pushshift.io/reddit/comments/RC_2009-01.bz2.\u001b[0m\n",
            "\u001b[32m2022-03-07 23:05:43.711\u001b[0m | \u001b[34m\u001b[1mDEBUG   \u001b[0m | \u001b[36m__main__\u001b[0m:\u001b[36mdownload_dumps\u001b[0m:\u001b[36m98\u001b[0m - \u001b[34m\u001b[1mhttps://files.pushshift.io/reddit/comments/RC_2009-02.zst does not exist. Skipping.\u001b[0m\n",
            "\u001b[32m2022-03-07 23:05:43.968\u001b[0m | \u001b[34m\u001b[1mDEBUG   \u001b[0m | \u001b[36m__main__\u001b[0m:\u001b[36mdownload_dumps\u001b[0m:\u001b[36m95\u001b[0m - \u001b[34m\u001b[1mDownloading https://files.pushshift.io/reddit/comments/RC_2009-02.bz2.\u001b[0m\n",
            "\u001b[32m2022-03-07 23:05:50.769\u001b[0m | \u001b[34m\u001b[1mDEBUG   \u001b[0m | \u001b[36m__main__\u001b[0m:\u001b[36mdownload_dumps\u001b[0m:\u001b[36m98\u001b[0m - \u001b[34m\u001b[1mhttps://files.pushshift.io/reddit/comments/RC_2009-03.zst does not exist. Skipping.\u001b[0m\n",
            "\u001b[32m2022-03-07 23:05:51.179\u001b[0m | \u001b[34m\u001b[1mDEBUG   \u001b[0m | \u001b[36m__main__\u001b[0m:\u001b[36mdownload_dumps\u001b[0m:\u001b[36m95\u001b[0m - \u001b[34m\u001b[1mDownloading https://files.pushshift.io/reddit/comments/RC_2009-03.bz2.\u001b[0m\n",
            "\u001b[32m2022-03-07 23:05:58.912\u001b[0m | \u001b[34m\u001b[1mDEBUG   \u001b[0m | \u001b[36m__main__\u001b[0m:\u001b[36mdownload_dumps\u001b[0m:\u001b[36m98\u001b[0m - \u001b[34m\u001b[1mhttps://files.pushshift.io/reddit/comments/RC_2009-04.zst does not exist. Skipping.\u001b[0m\n",
            "\u001b[32m2022-03-07 23:05:59.317\u001b[0m | \u001b[34m\u001b[1mDEBUG   \u001b[0m | \u001b[36m__main__\u001b[0m:\u001b[36mdownload_dumps\u001b[0m:\u001b[36m95\u001b[0m - \u001b[34m\u001b[1mDownloading https://files.pushshift.io/reddit/comments/RC_2009-04.bz2.\u001b[0m\n",
            "\u001b[32m2022-03-07 23:06:07.286\u001b[0m | \u001b[34m\u001b[1mDEBUG   \u001b[0m | \u001b[36m__main__\u001b[0m:\u001b[36mdownload_dumps\u001b[0m:\u001b[36m98\u001b[0m - \u001b[34m\u001b[1mhttps://files.pushshift.io/reddit/comments/RC_2009-05.zst does not exist. Skipping.\u001b[0m\n",
            "\u001b[32m2022-03-07 23:06:07.537\u001b[0m | \u001b[34m\u001b[1mDEBUG   \u001b[0m | \u001b[36m__main__\u001b[0m:\u001b[36mdownload_dumps\u001b[0m:\u001b[36m95\u001b[0m - \u001b[34m\u001b[1mDownloading https://files.pushshift.io/reddit/comments/RC_2009-05.bz2.\u001b[0m\n",
            "\u001b[32m2022-03-07 23:06:16.691\u001b[0m | \u001b[34m\u001b[1mDEBUG   \u001b[0m | \u001b[36m__main__\u001b[0m:\u001b[36mdownload_dumps\u001b[0m:\u001b[36m98\u001b[0m - \u001b[34m\u001b[1mhttps://files.pushshift.io/reddit/comments/RC_2009-06.zst does not exist. Skipping.\u001b[0m\n",
            "\u001b[32m2022-03-07 23:06:17.135\u001b[0m | \u001b[34m\u001b[1mDEBUG   \u001b[0m | \u001b[36m__main__\u001b[0m:\u001b[36mdownload_dumps\u001b[0m:\u001b[36m95\u001b[0m - \u001b[34m\u001b[1mDownloading https://files.pushshift.io/reddit/comments/RC_2009-06.bz2.\u001b[0m\n",
            "\u001b[32m2022-03-07 23:06:26.728\u001b[0m | \u001b[34m\u001b[1mDEBUG   \u001b[0m | \u001b[36m__main__\u001b[0m:\u001b[36mdownload_dumps\u001b[0m:\u001b[36m98\u001b[0m - \u001b[34m\u001b[1mhttps://files.pushshift.io/reddit/comments/RC_2009-07.zst does not exist. Skipping.\u001b[0m\n",
            "\u001b[32m2022-03-07 23:06:27.158\u001b[0m | \u001b[34m\u001b[1mDEBUG   \u001b[0m | \u001b[36m__main__\u001b[0m:\u001b[36mdownload_dumps\u001b[0m:\u001b[36m95\u001b[0m - \u001b[34m\u001b[1mDownloading https://files.pushshift.io/reddit/comments/RC_2009-07.bz2.\u001b[0m\n"
          ]
        }
      ],
      "source": [
        "%cd reddit_keywords\n",
        "!python reddit_download.py --start_year {START_YEAR} --end_year {END_YEAR} --start_month {START_MONTH} --end_month {END_MONTH}"
      ]
    },
    {
      "cell_type": "markdown",
      "metadata": {
        "id": "7Pu5Hxn9jVwB"
      },
      "source": [
        "# Generate dataframes\n",
        "\n",
        "The commands below will generate the `comment.csv` and `submission.csv` files in the `reddit_keywords` folder."
      ]
    },
    {
      "cell_type": "code",
      "execution_count": null,
      "metadata": {
        "id": "0VDZEq2nihot"
      },
      "outputs": [],
      "source": [
        "%cd /content/reddit_keywords\n",
        "!bash build_db.sh\n",
        "!python db_to_csv.py --keywords {KEYWORDS} --fields {FIELDS}"
      ]
    },
    {
      "cell_type": "markdown",
      "metadata": {
        "id": "bf-FX5u0mS6c"
      },
      "source": [
        "# Download"
      ]
    },
    {
      "cell_type": "code",
      "execution_count": null,
      "metadata": {
        "id": "sEotDq4LlQqM"
      },
      "outputs": [],
      "source": [
        "import time\n",
        "import json\n",
        "\n",
        "metadata = {\n",
        "    \"start_year\": START_YEAR,\n",
        "    \"start_month\": START_MONTH,\n",
        "    \"end_year\": END_YEAR,\n",
        "    \"end_month\": END_MONTH,\n",
        "    \"keywords\": KEYWORDS,\n",
        "    \"fields\": FIELDS\n",
        "}\n",
        "\n",
        "with open(\"metadata.json\", \"w+\") as f:\n",
        "    json.dump(metadata, f)\n",
        "\n",
        "from google.colab import files\n",
        "timestamp = str(int(time.time()))\n",
        "filename = f\"archive_{timestamp}.zip\"\n",
        "!zip {filename} comment.csv submission.csv metadata.json\n",
        "files.download(filename)"
      ]
    },
    {
      "cell_type": "markdown",
      "metadata": {},
      "source": [
        "# Disconnect"
      ]
    },
    {
      "cell_type": "code",
      "execution_count": null,
      "metadata": {},
      "outputs": [],
      "source": [
        "!kill $(ps aux | awk '{print $2}')"
      ]
    }
  ],
  "metadata": {
    "colab": {
      "name": "reddit.ipynb",
      "provenance": []
    },
    "kernelspec": {
      "display_name": "Python 3",
      "name": "python3"
    },
    "language_info": {
      "name": "python"
    }
  },
  "nbformat": 4,
  "nbformat_minor": 0
}
